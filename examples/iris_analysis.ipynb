{
 "cells": [
  {
   "cell_type": "code",
   "execution_count": 1,
   "metadata": {},
   "outputs": [
    {
     "data": {
      "text/html": [
       "<pre style=\"white-space:pre;overflow-x:auto;line-height:normal;font-family:Menlo,'DejaVu Sans Mono',consolas,'Courier New',monospace\"><span style=\"color: #808000; text-decoration-color: #808000\">Ensure your API KEY is set for your LLM as an environment variable.</span>\n",
       "</pre>\n"
      ],
      "text/plain": [
       "\u001b[33mEnsure your API KEY is set for your LLM as an environment variable.\u001b[0m\n"
      ]
     },
     "metadata": {},
     "output_type": "display_data"
    },
    {
     "data": {
      "text/html": [
       "<pre style=\"white-space:pre;overflow-x:auto;line-height:normal;font-family:Menlo,'DejaVu Sans Mono',consolas,'Courier New',monospace\"><span style=\"color: #808000; text-decoration-color: #808000\">Ensure your API KEY is set for your LLM as an environment variable.</span>\n",
       "</pre>\n"
      ],
      "text/plain": [
       "\u001b[33mEnsure your API KEY is set for your LLM as an environment variable.\u001b[0m\n"
      ]
     },
     "metadata": {},
     "output_type": "display_data"
    }
   ],
   "source": [
    "from sklearn.datasets import load_iris\n",
    "import numpy as np\n",
    "import numpyai as npi\n",
    "\n",
    "from rich.console import Console"
   ]
  },
  {
   "cell_type": "code",
   "execution_count": 2,
   "metadata": {},
   "outputs": [],
   "source": [
    "c = Console() "
   ]
  },
  {
   "cell_type": "code",
   "execution_count": 3,
   "metadata": {},
   "outputs": [
    {
     "name": "stdout",
     "output_type": "stream",
     "text": [
      "True\n"
     ]
    }
   ],
   "source": [
    "iris = load_iris()\n",
    "X, y = iris.data, iris.target\n",
    "print(isinstance(X, np.ndarray) and isinstance(y, np.ndarray))"
   ]
  },
  {
   "cell_type": "code",
   "execution_count": 4,
   "metadata": {},
   "outputs": [],
   "source": [
    "sess = npi.NumpyAISession([X, y], verbose=False)\n",
    "diag = npi.Diagnosis(sess)"
   ]
  },
  {
   "cell_type": "code",
   "execution_count": 5,
   "metadata": {},
   "outputs": [
    {
     "data": {
      "text/html": [
       "<pre style=\"white-space:pre;overflow-x:auto;line-height:normal;font-family:Menlo,'DejaVu Sans Mono',consolas,'Courier New',monospace\"><span style=\"color: #00ff00; text-decoration-color: #00ff00\">────────────────────────────────────────────────── </span><span style=\"color: #000080; text-decoration-color: #000080; font-weight: bold\">LLM Response</span><span style=\"color: #00ff00; text-decoration-color: #00ff00\"> ───────────────────────────────────────────────────</span>\n",
       "</pre>\n"
      ],
      "text/plain": [
       "\u001b[92m────────────────────────────────────────────────── \u001b[0m\u001b[1;34mLLM Response\u001b[0m\u001b[92m ───────────────────────────────────────────────────\u001b[0m\n"
      ]
     },
     "metadata": {},
     "output_type": "display_data"
    },
    {
     "data": {
      "text/html": [
       "<pre style=\"white-space:pre;overflow-x:auto;line-height:normal;font-family:Menlo,'DejaVu Sans Mono',consolas,'Courier New',monospace\"><span style=\"color: #008080; text-decoration-color: #008080\">╭────────────────────────────────────────────── Data Analysis Steps ──────────────────────────────────────────────╮</span>\n",
       "<span style=\"color: #008080; text-decoration-color: #008080\">│</span> [ \"1. Analyze class distribution: Use <span style=\"color: #008080; text-decoration-color: #008080; background-color: #000000; font-weight: bold\">unique</span> with <span style=\"color: #008080; text-decoration-color: #008080; background-color: #000000; font-weight: bold\">return_counts=True</span> on 'arr2' to see the balance of classes.   <span style=\"color: #008080; text-decoration-color: #008080\">│</span>\n",
       "<span style=\"color: #008080; text-decoration-color: #008080\">│</span> If highly imbalanced, consider stratified sampling or using cost-sensitive learning in later modeling stages.   <span style=\"color: #008080; text-decoration-color: #008080\">│</span>\n",
       "<span style=\"color: #008080; text-decoration-color: #008080\">│</span> If balanced, proceed to step 2.\", \"2. Calculate descriptive statistics: Use <span style=\"color: #008080; text-decoration-color: #008080; background-color: #000000; font-weight: bold\">mean</span>, <span style=\"color: #008080; text-decoration-color: #008080; background-color: #000000; font-weight: bold\">std</span>, <span style=\"color: #008080; text-decoration-color: #008080; background-color: #000000; font-weight: bold\">min</span>, <span style=\"color: #008080; text-decoration-color: #008080; background-color: #000000; font-weight: bold\">max</span>, and <span style=\"color: #008080; text-decoration-color: #008080; background-color: #000000; font-weight: bold\">percentile</span> <span style=\"color: #008080; text-decoration-color: #008080\">│</span>\n",
       "<span style=\"color: #008080; text-decoration-color: #008080\">│</span> on each column of 'arr1'. This helps understand the data's range and central tendencies, potentially revealing  <span style=\"color: #008080; text-decoration-color: #008080\">│</span>\n",
       "<span style=\"color: #008080; text-decoration-color: #008080\">│</span> outliers or data entry errors. If outliers are present, consider capping or winsorizing them based on the data  <span style=\"color: #008080; text-decoration-color: #008080\">│</span>\n",
       "<span style=\"color: #008080; text-decoration-color: #008080\">│</span> distribution and domain knowledge.\", \"3. Check for multicollinearity: Calculate the correlation matrix using    <span style=\"color: #008080; text-decoration-color: #008080\">│</span>\n",
       "<span style=\"color: #008080; text-decoration-color: #008080\">│</span> <span style=\"color: #008080; text-decoration-color: #008080; background-color: #000000; font-weight: bold\">corrcoef</span> on 'arr1'. High correlation (e.g., &gt;0.7 or &lt;-0.7) between features suggests multicollinearity. If      <span style=\"color: #008080; text-decoration-color: #008080\">│</span>\n",
       "<span style=\"color: #008080; text-decoration-color: #008080\">│</span> present, consider removing one of the correlated features or using dimensionality reduction techniques like     <span style=\"color: #008080; text-decoration-color: #008080\">│</span>\n",
       "<span style=\"color: #008080; text-decoration-color: #008080\">│</span> PCA.\", \"4. Feature importance assessment: Use a simple model like <span style=\"color: #008080; text-decoration-color: #008080; background-color: #000000; font-weight: bold\">DecisionTreeClassifier</span> or <span style=\"color: #008080; text-decoration-color: #008080; background-color: #000000; font-weight: bold\">LogisticRegression</span>  <span style=\"color: #008080; text-decoration-color: #008080\">│</span>\n",
       "<span style=\"color: #008080; text-decoration-color: #008080\">│</span> with L1 regularization (feature selection) and evaluate feature importances or coefficients. Features with very <span style=\"color: #008080; text-decoration-color: #008080\">│</span>\n",
       "<span style=\"color: #008080; text-decoration-color: #008080\">│</span> low importance scores might be dropped to simplify the model.\", \"5. Data dimensionality assessment: use PCA     <span style=\"color: #008080; text-decoration-color: #008080\">│</span>\n",
       "<span style=\"color: #008080; text-decoration-color: #008080\">│</span> using <span style=\"color: #008080; text-decoration-color: #008080; background-color: #000000; font-weight: bold\">PCA</span> from <span style=\"color: #008080; text-decoration-color: #008080; background-color: #000000; font-weight: bold\">sklearn.decomposition</span> module. If the first two components do not explain at least 70% of the     <span style=\"color: #008080; text-decoration-color: #008080\">│</span>\n",
       "<span style=\"color: #008080; text-decoration-color: #008080\">│</span> variance, the data cannot be easily visualized.\", \"6. Initial Model Selection: Based on the class distribution  <span style=\"color: #008080; text-decoration-color: #008080\">│</span>\n",
       "<span style=\"color: #008080; text-decoration-color: #008080\">│</span> and data characteristics (linearity, feature importance), choose a few suitable models. If the relationship     <span style=\"color: #008080; text-decoration-color: #008080\">│</span>\n",
       "<span style=\"color: #008080; text-decoration-color: #008080\">│</span> between the features and target variable is linear and multicollinearity is not present, go for                 <span style=\"color: #008080; text-decoration-color: #008080\">│</span>\n",
       "<span style=\"color: #008080; text-decoration-color: #008080\">│</span> <span style=\"color: #008080; text-decoration-color: #008080; background-color: #000000; font-weight: bold\">LogisticRegression</span>. If the relation is non-linear, go for <span style=\"color: #008080; text-decoration-color: #008080; background-color: #000000; font-weight: bold\">RandomForestClassifier</span> or                             <span style=\"color: #008080; text-decoration-color: #008080\">│</span>\n",
       "<span style=\"color: #008080; text-decoration-color: #008080\">│</span> <span style=\"color: #008080; text-decoration-color: #008080; background-color: #000000; font-weight: bold\">GradientBoostingClassifier</span>.\", \"7. Model Validation Strategy: Split the data into training, validation, and test <span style=\"color: #008080; text-decoration-color: #008080\">│</span>\n",
       "<span style=\"color: #008080; text-decoration-color: #008080\">│</span> sets. If class imbalance is significant, use stratified splitting to maintain class proportions in each set.    <span style=\"color: #008080; text-decoration-color: #008080\">│</span>\n",
       "<span style=\"color: #008080; text-decoration-color: #008080\">│</span> Use Cross validation such as <span style=\"color: #008080; text-decoration-color: #008080; background-color: #000000; font-weight: bold\">StratifiedKFold</span> if you have less data for training.\" ]                             <span style=\"color: #008080; text-decoration-color: #008080\">│</span>\n",
       "<span style=\"color: #008080; text-decoration-color: #008080\">╰─────────────────────────────────────────────────────────────────────────────────────────────────────────────────╯</span>\n",
       "</pre>\n"
      ],
      "text/plain": [
       "\u001b[36m╭─\u001b[0m\u001b[36m─────────────────────────────────────────────\u001b[0m\u001b[36m Data Analysis Steps \u001b[0m\u001b[36m─────────────────────────────────────────────\u001b[0m\u001b[36m─╮\u001b[0m\n",
       "\u001b[36m│\u001b[0m [ \"1. Analyze class distribution: Use \u001b[1;36;40munique\u001b[0m with \u001b[1;36;40mreturn_counts=True\u001b[0m on 'arr2' to see the balance of classes.   \u001b[36m│\u001b[0m\n",
       "\u001b[36m│\u001b[0m If highly imbalanced, consider stratified sampling or using cost-sensitive learning in later modeling stages.   \u001b[36m│\u001b[0m\n",
       "\u001b[36m│\u001b[0m If balanced, proceed to step 2.\", \"2. Calculate descriptive statistics: Use \u001b[1;36;40mmean\u001b[0m, \u001b[1;36;40mstd\u001b[0m, \u001b[1;36;40mmin\u001b[0m, \u001b[1;36;40mmax\u001b[0m, and \u001b[1;36;40mpercentile\u001b[0m \u001b[36m│\u001b[0m\n",
       "\u001b[36m│\u001b[0m on each column of 'arr1'. This helps understand the data's range and central tendencies, potentially revealing  \u001b[36m│\u001b[0m\n",
       "\u001b[36m│\u001b[0m outliers or data entry errors. If outliers are present, consider capping or winsorizing them based on the data  \u001b[36m│\u001b[0m\n",
       "\u001b[36m│\u001b[0m distribution and domain knowledge.\", \"3. Check for multicollinearity: Calculate the correlation matrix using    \u001b[36m│\u001b[0m\n",
       "\u001b[36m│\u001b[0m \u001b[1;36;40mcorrcoef\u001b[0m on 'arr1'. High correlation (e.g., >0.7 or <-0.7) between features suggests multicollinearity. If      \u001b[36m│\u001b[0m\n",
       "\u001b[36m│\u001b[0m present, consider removing one of the correlated features or using dimensionality reduction techniques like     \u001b[36m│\u001b[0m\n",
       "\u001b[36m│\u001b[0m PCA.\", \"4. Feature importance assessment: Use a simple model like \u001b[1;36;40mDecisionTreeClassifier\u001b[0m or \u001b[1;36;40mLogisticRegression\u001b[0m  \u001b[36m│\u001b[0m\n",
       "\u001b[36m│\u001b[0m with L1 regularization (feature selection) and evaluate feature importances or coefficients. Features with very \u001b[36m│\u001b[0m\n",
       "\u001b[36m│\u001b[0m low importance scores might be dropped to simplify the model.\", \"5. Data dimensionality assessment: use PCA     \u001b[36m│\u001b[0m\n",
       "\u001b[36m│\u001b[0m using \u001b[1;36;40mPCA\u001b[0m from \u001b[1;36;40msklearn.decomposition\u001b[0m module. If the first two components do not explain at least 70% of the     \u001b[36m│\u001b[0m\n",
       "\u001b[36m│\u001b[0m variance, the data cannot be easily visualized.\", \"6. Initial Model Selection: Based on the class distribution  \u001b[36m│\u001b[0m\n",
       "\u001b[36m│\u001b[0m and data characteristics (linearity, feature importance), choose a few suitable models. If the relationship     \u001b[36m│\u001b[0m\n",
       "\u001b[36m│\u001b[0m between the features and target variable is linear and multicollinearity is not present, go for                 \u001b[36m│\u001b[0m\n",
       "\u001b[36m│\u001b[0m \u001b[1;36;40mLogisticRegression\u001b[0m. If the relation is non-linear, go for \u001b[1;36;40mRandomForestClassifier\u001b[0m or                             \u001b[36m│\u001b[0m\n",
       "\u001b[36m│\u001b[0m \u001b[1;36;40mGradientBoostingClassifier\u001b[0m.\", \"7. Model Validation Strategy: Split the data into training, validation, and test \u001b[36m│\u001b[0m\n",
       "\u001b[36m│\u001b[0m sets. If class imbalance is significant, use stratified splitting to maintain class proportions in each set.    \u001b[36m│\u001b[0m\n",
       "\u001b[36m│\u001b[0m Use Cross validation such as \u001b[1;36;40mStratifiedKFold\u001b[0m if you have less data for training.\" ]                             \u001b[36m│\u001b[0m\n",
       "\u001b[36m╰─────────────────────────────────────────────────────────────────────────────────────────────────────────────────╯\u001b[0m\n"
      ]
     },
     "metadata": {},
     "output_type": "display_data"
    }
   ],
   "source": [
    "steps = diag.steps(task=\"Give me the exact and pithy steps to decide which machine learning model to use. You should not give more than seven steps.\")"
   ]
  },
  {
   "cell_type": "code",
   "execution_count": 6,
   "metadata": {},
   "outputs": [
    {
     "data": {
      "text/html": [
       "<pre style=\"white-space:pre;overflow-x:auto;line-height:normal;font-family:Menlo,'DejaVu Sans Mono',consolas,'Courier New',monospace\"><span style=\"color: #000080; text-decoration-color: #000080\">╭─────────────────────────────────────────────────────────────────────────────────────────────────────────────────╮</span>\n",
       "<span style=\"color: #000080; text-decoration-color: #000080\">│</span> <span style=\"color: #008080; text-decoration-color: #008080; font-weight: bold\">Query:</span> 1. Analyze class distribution: Use `unique` with `return_counts=True` on 'arr2' to see the balance of    <span style=\"color: #000080; text-decoration-color: #000080\">│</span>\n",
       "<span style=\"color: #000080; text-decoration-color: #000080\">│</span> classes. If highly imbalanced, consider stratified sampling or using cost-sensitive learning in later modeling  <span style=\"color: #000080; text-decoration-color: #000080\">│</span>\n",
       "<span style=\"color: #000080; text-decoration-color: #000080\">│</span> stages. If balanced, proceed to step 2.                                                                         <span style=\"color: #000080; text-decoration-color: #000080\">│</span>\n",
       "<span style=\"color: #000080; text-decoration-color: #000080\">╰─────────────────────────────────────────────────────────────────────────────────────────────────────────────────╯</span>\n",
       "</pre>\n"
      ],
      "text/plain": [
       "\u001b[34m╭─────────────────────────────────────────────────────────────────────────────────────────────────────────────────╮\u001b[0m\n",
       "\u001b[34m│\u001b[0m \u001b[1;36mQuery:\u001b[0m 1. Analyze class distribution: Use `unique` with `return_counts=True` on 'arr2' to see the balance of    \u001b[34m│\u001b[0m\n",
       "\u001b[34m│\u001b[0m classes. If highly imbalanced, consider stratified sampling or using cost-sensitive learning in later modeling  \u001b[34m│\u001b[0m\n",
       "\u001b[34m│\u001b[0m stages. If balanced, proceed to step 2.                                                                         \u001b[34m│\u001b[0m\n",
       "\u001b[34m╰─────────────────────────────────────────────────────────────────────────────────────────────────────────────────╯\u001b[0m\n"
      ]
     },
     "metadata": {},
     "output_type": "display_data"
    },
    {
     "name": "stdout",
     "output_type": "stream",
     "text": [
      "Class Distribution:\n",
      "Class 0: 50 samples\n",
      "Class 1: 50 samples\n",
      "Class 2: 50 samples\n",
      "\n",
      "Class distribution appears relatively balanced.\n",
      "Class Distribution:\n",
      "Class 0: 50 samples\n",
      "Class 1: 50 samples\n",
      "Class 2: 50 samples\n",
      "\n",
      "Class Proportions:\n",
      "Class 0: 0.33\n",
      "Class 1: 0.33\n",
      "Class 2: 0.33\n"
     ]
    },
    {
     "data": {
      "text/html": [
       "<pre style=\"white-space:pre;overflow-x:auto;line-height:normal;font-family:Menlo,'DejaVu Sans Mono',consolas,'Courier New',monospace\"><span style=\"color: #000080; text-decoration-color: #000080\">╭─────────────────────────────────────────────────────────────────────────────────────────────────────────────────╮</span>\n",
       "<span style=\"color: #000080; text-decoration-color: #000080\">│</span> <span style=\"color: #008080; text-decoration-color: #008080; font-weight: bold\">Query:</span> 2. Calculate descriptive statistics: Use `mean`, `std`, `min`, `max`, and `percentile` on each column of <span style=\"color: #000080; text-decoration-color: #000080\">│</span>\n",
       "<span style=\"color: #000080; text-decoration-color: #000080\">│</span> 'arr1'. This helps understand the data's range and central tendencies, potentially revealing outliers or data   <span style=\"color: #000080; text-decoration-color: #000080\">│</span>\n",
       "<span style=\"color: #000080; text-decoration-color: #000080\">│</span> entry errors. If outliers are present, consider capping or winsorizing them based on the data distribution and  <span style=\"color: #000080; text-decoration-color: #000080\">│</span>\n",
       "<span style=\"color: #000080; text-decoration-color: #000080\">│</span> domain knowledge.                                                                                               <span style=\"color: #000080; text-decoration-color: #000080\">│</span>\n",
       "<span style=\"color: #000080; text-decoration-color: #000080\">╰─────────────────────────────────────────────────────────────────────────────────────────────────────────────────╯</span>\n",
       "</pre>\n"
      ],
      "text/plain": [
       "\u001b[34m╭─────────────────────────────────────────────────────────────────────────────────────────────────────────────────╮\u001b[0m\n",
       "\u001b[34m│\u001b[0m \u001b[1;36mQuery:\u001b[0m 2. Calculate descriptive statistics: Use `mean`, `std`, `min`, `max`, and `percentile` on each column of \u001b[34m│\u001b[0m\n",
       "\u001b[34m│\u001b[0m 'arr1'. This helps understand the data's range and central tendencies, potentially revealing outliers or data   \u001b[34m│\u001b[0m\n",
       "\u001b[34m│\u001b[0m entry errors. If outliers are present, consider capping or winsorizing them based on the data distribution and  \u001b[34m│\u001b[0m\n",
       "\u001b[34m│\u001b[0m domain knowledge.                                                                                               \u001b[34m│\u001b[0m\n",
       "\u001b[34m╰─────────────────────────────────────────────────────────────────────────────────────────────────────────────────╯\u001b[0m\n"
      ]
     },
     "metadata": {},
     "output_type": "display_data"
    },
    {
     "name": "stdout",
     "output_type": "stream",
     "text": [
      "Class Distribution:\n",
      "Class 0: 0.3333\n",
      "Class 1: 0.3333\n",
      "Class 2: 0.3333\n",
      "Means: [5.84333333 3.05733333 3.758      1.19933333]\n",
      "Standard Deviations: [0.82530129 0.43441097 1.75940407 0.75969263]\n",
      "Mins: [4.3 2.  1.  0.1]\n",
      "Maxs: [7.9 4.4 6.9 2.5]\n",
      "25th Percentiles: [5.1 2.8 1.6 0.3]\n",
      "50th Percentiles (Medians): [5.8  3.   4.35 1.3 ]\n",
      "75th Percentiles: [6.4 3.3 5.1 1.8]\n"
     ]
    },
    {
     "data": {
      "text/html": [
       "<pre style=\"white-space:pre;overflow-x:auto;line-height:normal;font-family:Menlo,'DejaVu Sans Mono',consolas,'Courier New',monospace\"><span style=\"color: #000080; text-decoration-color: #000080\">╭─────────────────────────────────────────────────────────────────────────────────────────────────────────────────╮</span>\n",
       "<span style=\"color: #000080; text-decoration-color: #000080\">│</span> <span style=\"color: #008080; text-decoration-color: #008080; font-weight: bold\">Query:</span> 3. Check for multicollinearity: Calculate the correlation matrix using `corrcoef` on 'arr1'. High        <span style=\"color: #000080; text-decoration-color: #000080\">│</span>\n",
       "<span style=\"color: #000080; text-decoration-color: #000080\">│</span> correlation (e.g., &gt;0.7 or &lt;-0.7) between features suggests multicollinearity. If present, consider removing    <span style=\"color: #000080; text-decoration-color: #000080\">│</span>\n",
       "<span style=\"color: #000080; text-decoration-color: #000080\">│</span> one of the correlated features or using dimensionality reduction techniques like PCA.                           <span style=\"color: #000080; text-decoration-color: #000080\">│</span>\n",
       "<span style=\"color: #000080; text-decoration-color: #000080\">╰─────────────────────────────────────────────────────────────────────────────────────────────────────────────────╯</span>\n",
       "</pre>\n"
      ],
      "text/plain": [
       "\u001b[34m╭─────────────────────────────────────────────────────────────────────────────────────────────────────────────────╮\u001b[0m\n",
       "\u001b[34m│\u001b[0m \u001b[1;36mQuery:\u001b[0m 3. Check for multicollinearity: Calculate the correlation matrix using `corrcoef` on 'arr1'. High        \u001b[34m│\u001b[0m\n",
       "\u001b[34m│\u001b[0m correlation (e.g., >0.7 or <-0.7) between features suggests multicollinearity. If present, consider removing    \u001b[34m│\u001b[0m\n",
       "\u001b[34m│\u001b[0m one of the correlated features or using dimensionality reduction techniques like PCA.                           \u001b[34m│\u001b[0m\n",
       "\u001b[34m╰─────────────────────────────────────────────────────────────────────────────────────────────────────────────────╯\u001b[0m\n"
      ]
     },
     "metadata": {},
     "output_type": "display_data"
    },
    {
     "name": "stdout",
     "output_type": "stream",
     "text": [
      "Correlation Matrix:\n",
      "[[ 1.         -0.11756978  0.87175378  0.81794113]\n",
      " [-0.11756978  1.         -0.4284401  -0.36612593]\n",
      " [ 0.87175378 -0.4284401   1.          0.96286543]\n",
      " [ 0.81794113 -0.36612593  0.96286543  1.        ]]\n",
      "Correlation Matrix of arr1:\n",
      " [[ 1.         -0.11756978  0.87175378  0.81794113]\n",
      " [-0.11756978  1.         -0.4284401  -0.36612593]\n",
      " [ 0.87175378 -0.4284401   1.          0.96286543]\n",
      " [ 0.81794113 -0.36612593  0.96286543  1.        ]]\n"
     ]
    },
    {
     "data": {
      "text/html": [
       "<pre style=\"white-space:pre;overflow-x:auto;line-height:normal;font-family:Menlo,'DejaVu Sans Mono',consolas,'Courier New',monospace\"><span style=\"color: #000080; text-decoration-color: #000080\">╭─────────────────────────────────────────────────────────────────────────────────────────────────────────────────╮</span>\n",
       "<span style=\"color: #000080; text-decoration-color: #000080\">│</span> <span style=\"color: #008080; text-decoration-color: #008080; font-weight: bold\">Query:</span> 4. Feature importance assessment: Use a simple model like `DecisionTreeClassifier` or                    <span style=\"color: #000080; text-decoration-color: #000080\">│</span>\n",
       "<span style=\"color: #000080; text-decoration-color: #000080\">│</span> `LogisticRegression` with L1 regularization (feature selection) and evaluate feature importances or             <span style=\"color: #000080; text-decoration-color: #000080\">│</span>\n",
       "<span style=\"color: #000080; text-decoration-color: #000080\">│</span> coefficients. Features with very low importance scores might be dropped to simplify the model.                  <span style=\"color: #000080; text-decoration-color: #000080\">│</span>\n",
       "<span style=\"color: #000080; text-decoration-color: #000080\">╰─────────────────────────────────────────────────────────────────────────────────────────────────────────────────╯</span>\n",
       "</pre>\n"
      ],
      "text/plain": [
       "\u001b[34m╭─────────────────────────────────────────────────────────────────────────────────────────────────────────────────╮\u001b[0m\n",
       "\u001b[34m│\u001b[0m \u001b[1;36mQuery:\u001b[0m 4. Feature importance assessment: Use a simple model like `DecisionTreeClassifier` or                    \u001b[34m│\u001b[0m\n",
       "\u001b[34m│\u001b[0m `LogisticRegression` with L1 regularization (feature selection) and evaluate feature importances or             \u001b[34m│\u001b[0m\n",
       "\u001b[34m│\u001b[0m coefficients. Features with very low importance scores might be dropped to simplify the model.                  \u001b[34m│\u001b[0m\n",
       "\u001b[34m╰─────────────────────────────────────────────────────────────────────────────────────────────────────────────────╯\u001b[0m\n"
      ]
     },
     "metadata": {},
     "output_type": "display_data"
    },
    {
     "name": "stdout",
     "output_type": "stream",
     "text": [
      "Feature importances: [0.         0.01333333 0.06405596 0.92261071]\n",
      "Feature Importances: [0.01333333 0.         0.56405596 0.42261071]\n",
      "Class Labels: [0 1 2]\n",
      "Class Counts: [50 50 50]\n",
      "Class Probabilities: [0.33333333 0.33333333 0.33333333]\n",
      "Feature Importances: [0.02666667 0.         0.05072262 0.92261071]\n",
      "Shape match: True\n",
      "Dtype match: True\n",
      "Has NaN: False\n",
      "Has Inf: False\n",
      "Sum close to one: True\n"
     ]
    },
    {
     "data": {
      "text/html": [
       "<pre style=\"white-space:pre;overflow-x:auto;line-height:normal;font-family:Menlo,'DejaVu Sans Mono',consolas,'Courier New',monospace\"><span style=\"color: #808000; text-decoration-color: #808000\">╭─────────────────────────────────────────────────────────────────────────────────────────────────────────────────╮</span>\n",
       "<span style=\"color: #808000; text-decoration-color: #808000\">│</span> <span style=\"color: #008000; text-decoration-color: #008000; font-weight: bold\">Output</span>                                                                                                          <span style=\"color: #808000; text-decoration-color: #808000\">│</span>\n",
       "<span style=\"color: #808000; text-decoration-color: #808000\">│</span> <span style=\"color: #008000; text-decoration-color: #008000; font-weight: bold\"> &lt;class 'numpy.ndarray'&gt;</span>                                                                                        <span style=\"color: #808000; text-decoration-color: #808000\">│</span>\n",
       "<span style=\"color: #808000; text-decoration-color: #808000\">╰─────────────────────────────────────────────────────────────────────────────────────────────────────────────────╯</span>\n",
       "</pre>\n"
      ],
      "text/plain": [
       "\u001b[33m╭─────────────────────────────────────────────────────────────────────────────────────────────────────────────────╮\u001b[0m\n",
       "\u001b[33m│\u001b[0m \u001b[1;32mOutput\u001b[0m                                                                                                          \u001b[33m│\u001b[0m\n",
       "\u001b[33m│\u001b[0m \u001b[1;32m <class 'numpy.ndarray'>\u001b[0m                                                                                        \u001b[33m│\u001b[0m\n",
       "\u001b[33m╰─────────────────────────────────────────────────────────────────────────────────────────────────────────────────╯\u001b[0m\n"
      ]
     },
     "metadata": {},
     "output_type": "display_data"
    },
    {
     "data": {
      "text/html": [
       "<pre style=\"white-space:pre;overflow-x:auto;line-height:normal;font-family:Menlo,'DejaVu Sans Mono',consolas,'Courier New',monospace\"><span style=\"color: #000080; text-decoration-color: #000080\">╭─────────────────────────────────────────────────────────────────────────────────────────────────────────────────╮</span>\n",
       "<span style=\"color: #000080; text-decoration-color: #000080\">│</span> <span style=\"color: #008080; text-decoration-color: #008080; font-weight: bold\">Query:</span> 5. Data dimensionality assessment: use PCA using `PCA` from `sklearn.decomposition` module. If the first <span style=\"color: #000080; text-decoration-color: #000080\">│</span>\n",
       "<span style=\"color: #000080; text-decoration-color: #000080\">│</span> two components do not explain at least 70% of the variance, the data cannot be easily visualized.               <span style=\"color: #000080; text-decoration-color: #000080\">│</span>\n",
       "<span style=\"color: #000080; text-decoration-color: #000080\">╰─────────────────────────────────────────────────────────────────────────────────────────────────────────────────╯</span>\n",
       "</pre>\n"
      ],
      "text/plain": [
       "\u001b[34m╭─────────────────────────────────────────────────────────────────────────────────────────────────────────────────╮\u001b[0m\n",
       "\u001b[34m│\u001b[0m \u001b[1;36mQuery:\u001b[0m 5. Data dimensionality assessment: use PCA using `PCA` from `sklearn.decomposition` module. If the first \u001b[34m│\u001b[0m\n",
       "\u001b[34m│\u001b[0m two components do not explain at least 70% of the variance, the data cannot be easily visualized.               \u001b[34m│\u001b[0m\n",
       "\u001b[34m╰─────────────────────────────────────────────────────────────────────────────────────────────────────────────────╯\u001b[0m\n"
      ]
     },
     "metadata": {},
     "output_type": "display_data"
    },
    {
     "name": "stdout",
     "output_type": "stream",
     "text": [
      "Explained variance ratio for the first two components: [0.92461872 0.05306648]\n",
      "Total explained variance: 0.9776852063187963\n",
      "The first two components explain at least 70% of the variance. Data can be easily visualized.\n",
      "Explained variance ratio for the first two components: [0.92461872 0.05306648]\n",
      "Total explained variance by the first two components: 0.9776852063187963\n",
      "The first two components explain at least 70% of the variance. The data can be easily visualized.\n",
      "Explained Variance Ratio: [0.92461872 0.05306648]\n",
      "Total Explained Variance (2 components): 0.9776852063187963\n",
      "Data is easily visualizable (>= 70% variance explained): True\n"
     ]
    },
    {
     "data": {
      "text/html": [
       "<pre style=\"white-space:pre;overflow-x:auto;line-height:normal;font-family:Menlo,'DejaVu Sans Mono',consolas,'Courier New',monospace\"><span style=\"color: #000080; text-decoration-color: #000080\">╭─────────────────────────────────────────────────────────────────────────────────────────────────────────────────╮</span>\n",
       "<span style=\"color: #000080; text-decoration-color: #000080\">│</span> <span style=\"color: #008080; text-decoration-color: #008080; font-weight: bold\">Query:</span> 6. Initial Model Selection: Based on the class distribution and data characteristics (linearity, feature <span style=\"color: #000080; text-decoration-color: #000080\">│</span>\n",
       "<span style=\"color: #000080; text-decoration-color: #000080\">│</span> importance), choose a few suitable models. If the relationship between the features and target variable is      <span style=\"color: #000080; text-decoration-color: #000080\">│</span>\n",
       "<span style=\"color: #000080; text-decoration-color: #000080\">│</span> linear and multicollinearity is not present, go for `LogisticRegression`. If the relation is non-linear, go for <span style=\"color: #000080; text-decoration-color: #000080\">│</span>\n",
       "<span style=\"color: #000080; text-decoration-color: #000080\">│</span> `RandomForestClassifier` or `GradientBoostingClassifier`.                                                       <span style=\"color: #000080; text-decoration-color: #000080\">│</span>\n",
       "<span style=\"color: #000080; text-decoration-color: #000080\">╰─────────────────────────────────────────────────────────────────────────────────────────────────────────────────╯</span>\n",
       "</pre>\n"
      ],
      "text/plain": [
       "\u001b[34m╭─────────────────────────────────────────────────────────────────────────────────────────────────────────────────╮\u001b[0m\n",
       "\u001b[34m│\u001b[0m \u001b[1;36mQuery:\u001b[0m 6. Initial Model Selection: Based on the class distribution and data characteristics (linearity, feature \u001b[34m│\u001b[0m\n",
       "\u001b[34m│\u001b[0m importance), choose a few suitable models. If the relationship between the features and target variable is      \u001b[34m│\u001b[0m\n",
       "\u001b[34m│\u001b[0m linear and multicollinearity is not present, go for `LogisticRegression`. If the relation is non-linear, go for \u001b[34m│\u001b[0m\n",
       "\u001b[34m│\u001b[0m `RandomForestClassifier` or `GradientBoostingClassifier`.                                                       \u001b[34m│\u001b[0m\n",
       "\u001b[34m╰─────────────────────────────────────────────────────────────────────────────────────────────────────────────────╯\u001b[0m\n"
      ]
     },
     "metadata": {},
     "output_type": "display_data"
    },
    {
     "name": "stdout",
     "output_type": "stream",
     "text": [
      "Class Distribution:\n",
      " [0.33333333 0.33333333 0.33333333]\n",
      "\n",
      "Correlation Matrix:\n",
      " [[ 1.         -0.11756978  0.87175378  0.81794113]\n",
      " [-0.11756978  1.         -0.4284401  -0.36612593]\n",
      " [ 0.87175378 -0.4284401   1.          0.96286543]\n",
      " [ 0.81794113 -0.36612593  0.96286543  1.        ]]\n",
      "\n",
      "Are there highly correlated features? True\n",
      "\n",
      "Model Selection: RandomForestClassifier or GradientBoostingClassifier (assuming a non-linear relationship or multicollinearity)\n",
      "PCA is not defined, assuming easy_visualize is False.\n",
      "Class distribution: [0.33333333 0.33333333 0.33333333]\n",
      "High Correlation: True\n",
      "Easy to visualize data: False\n",
      "Selected models: ['RandomForestClassifier' 'GradientBoostingClassifier']\n",
      "Class Distribution:\n",
      "Class 0: 50 samples\n",
      "Class 1: 50 samples\n",
      "Class 2: 50 samples\n",
      "\n",
      "Descriptive Statistics for each column of arr1:\n",
      "Means: [5.84333333 3.05733333 3.758      1.19933333]\n",
      "Standard Deviations: [0.82530129 0.43441097 1.75940407 0.75969263]\n",
      "Minimums: [4.3 2.  1.  0.1]\n",
      "Maximums: [7.9 4.4 6.9 2.5]\n",
      "25th Percentiles: [5.1 2.8 1.6 0.3]\n",
      "50th Percentiles: [5.8  3.   4.35 1.3 ]\n",
      "75th Percentiles: [6.4 3.3 5.1 1.8]\n",
      "\n",
      "Correlation Matrix of arr1:\n",
      " [[ 1.         -0.11756978  0.87175378  0.81794113]\n",
      " [-0.11756978  1.         -0.4284401  -0.36612593]\n",
      " [ 0.87175378 -0.4284401   1.          0.96286543]\n",
      " [ 0.81794113 -0.36612593  0.96286543  1.        ]]\n",
      "\n",
      "Decision Tree Feature Importances: [0.         0.01333333 0.06405596 0.92261071]\n",
      "\n",
      "PCA Explained Variance Ratio (First 2 components): [0.92461872 0.05306648]\n",
      "Total Explained Variance (First 2 components): 0.9776852063187963\n",
      "\n",
      "Data is easily visualizable (first two components explain >= 70% variance): True\n",
      "\n",
      "Recommended Models: ['RandomForestClassifier' 'GradientBoostingClassifier']\n",
      "Selected models based on data characteristics:\n",
      "['RandomForestClassifier' 'GradientBoostingClassifier']\n"
     ]
    },
    {
     "data": {
      "text/html": [
       "<pre style=\"white-space:pre;overflow-x:auto;line-height:normal;font-family:Menlo,'DejaVu Sans Mono',consolas,'Courier New',monospace\"><span style=\"color: #808000; text-decoration-color: #808000\">╭─────────────────────────────────────────────────────────────────────────────────────────────────────────────────╮</span>\n",
       "<span style=\"color: #808000; text-decoration-color: #808000\">│</span> <span style=\"color: #008000; text-decoration-color: #008000; font-weight: bold\">Output</span>                                                                                                          <span style=\"color: #808000; text-decoration-color: #808000\">│</span>\n",
       "<span style=\"color: #808000; text-decoration-color: #808000\">│</span> <span style=\"color: #008000; text-decoration-color: #008000; font-weight: bold\"> &lt;class 'numpy.ndarray'&gt;</span>                                                                                        <span style=\"color: #808000; text-decoration-color: #808000\">│</span>\n",
       "<span style=\"color: #808000; text-decoration-color: #808000\">╰─────────────────────────────────────────────────────────────────────────────────────────────────────────────────╯</span>\n",
       "</pre>\n"
      ],
      "text/plain": [
       "\u001b[33m╭─────────────────────────────────────────────────────────────────────────────────────────────────────────────────╮\u001b[0m\n",
       "\u001b[33m│\u001b[0m \u001b[1;32mOutput\u001b[0m                                                                                                          \u001b[33m│\u001b[0m\n",
       "\u001b[33m│\u001b[0m \u001b[1;32m <class 'numpy.ndarray'>\u001b[0m                                                                                        \u001b[33m│\u001b[0m\n",
       "\u001b[33m╰─────────────────────────────────────────────────────────────────────────────────────────────────────────────────╯\u001b[0m\n"
      ]
     },
     "metadata": {},
     "output_type": "display_data"
    },
    {
     "data": {
      "text/html": [
       "<pre style=\"white-space:pre;overflow-x:auto;line-height:normal;font-family:Menlo,'DejaVu Sans Mono',consolas,'Courier New',monospace\"><span style=\"color: #000080; text-decoration-color: #000080\">╭─────────────────────────────────────────────────────────────────────────────────────────────────────────────────╮</span>\n",
       "<span style=\"color: #000080; text-decoration-color: #000080\">│</span> <span style=\"color: #008080; text-decoration-color: #008080; font-weight: bold\">Query:</span> 7. Model Validation Strategy: Split the data into training, validation, and test sets. If class          <span style=\"color: #000080; text-decoration-color: #000080\">│</span>\n",
       "<span style=\"color: #000080; text-decoration-color: #000080\">│</span> imbalance is significant, use stratified splitting to maintain class proportions in each set. Use Cross         <span style=\"color: #000080; text-decoration-color: #000080\">│</span>\n",
       "<span style=\"color: #000080; text-decoration-color: #000080\">│</span> validation such as `StratifiedKFold` if you have less data for training.                                        <span style=\"color: #000080; text-decoration-color: #000080\">│</span>\n",
       "<span style=\"color: #000080; text-decoration-color: #000080\">╰─────────────────────────────────────────────────────────────────────────────────────────────────────────────────╯</span>\n",
       "</pre>\n"
      ],
      "text/plain": [
       "\u001b[34m╭─────────────────────────────────────────────────────────────────────────────────────────────────────────────────╮\u001b[0m\n",
       "\u001b[34m│\u001b[0m \u001b[1;36mQuery:\u001b[0m 7. Model Validation Strategy: Split the data into training, validation, and test sets. If class          \u001b[34m│\u001b[0m\n",
       "\u001b[34m│\u001b[0m imbalance is significant, use stratified splitting to maintain class proportions in each set. Use Cross         \u001b[34m│\u001b[0m\n",
       "\u001b[34m│\u001b[0m validation such as `StratifiedKFold` if you have less data for training.                                        \u001b[34m│\u001b[0m\n",
       "\u001b[34m╰─────────────────────────────────────────────────────────────────────────────────────────────────────────────────╯\u001b[0m\n"
      ]
     },
     "metadata": {},
     "output_type": "display_data"
    },
    {
     "name": "stdout",
     "output_type": "stream",
     "text": [
      "Class Distribution: {np.int64(0): np.int64(50), np.int64(1): np.int64(50), np.int64(2): np.int64(50)}\n",
      "Class Proportions: {np.int64(0): np.float64(0.3333333333333333), np.int64(1): np.float64(0.3333333333333333), np.int64(2): np.float64(0.3333333333333333)}\n",
      "Should use StratifiedKFold: False\n",
      "Number of Splits: 5\n",
      "Shape of arr1: (150, 4)\n",
      "Shape of arr2: (150,)\n",
      "Output: [  5 150 150]\n",
      "Class Distribution:\n",
      "Class 0: 50 samples\n",
      "Class 1: 50 samples\n",
      "Class 2: 50 samples\n",
      "Class Distribution:\n",
      "Class 0: 50 samples\n",
      "Class 1: 50 samples\n",
      "Class 2: 50 samples\n",
      "The dataset is relatively balanced.\n",
      "\n",
      "Class Proportions:\n",
      "Class 0: 0.3333\n",
      "Class 1: 0.3333\n",
      "Class 2: 0.3333\n",
      "Class Proportions: [0.33333333 0.33333333 0.33333333]\n",
      "Class Proportions: [0.33333333 0.33333333 0.33333333]\n"
     ]
    },
    {
     "data": {
      "text/html": [
       "<pre style=\"white-space:pre;overflow-x:auto;line-height:normal;font-family:Menlo,'DejaVu Sans Mono',consolas,'Courier New',monospace\"><span style=\"color: #800000; text-decoration-color: #800000\">╭─────────────────────────────────────────────────────────────────────────────────────────────────────────────────╮</span>\n",
       "<span style=\"color: #800000; text-decoration-color: #800000\">│</span> <span style=\"color: #800000; text-decoration-color: #800000; font-weight: bold\">✗</span> Attempt 3 failed: The truth value of an array with more than one element is ambiguous. Use a.any() or a.all() <span style=\"color: #800000; text-decoration-color: #800000\">│</span>\n",
       "<span style=\"color: #800000; text-decoration-color: #800000\">╰─────────────────────────────────────────────────────────────────────────────────────────────────────────────────╯</span>\n",
       "</pre>\n"
      ],
      "text/plain": [
       "\u001b[31m╭─────────────────────────────────────────────────────────────────────────────────────────────────────────────────╮\u001b[0m\n",
       "\u001b[31m│\u001b[0m \u001b[1;31m✗\u001b[0m Attempt 3 failed: The truth value of an array with more than one element is ambiguous. Use a.any() or a.all() \u001b[31m│\u001b[0m\n",
       "\u001b[31m╰─────────────────────────────────────────────────────────────────────────────────────────────────────────────────╯\u001b[0m\n"
      ]
     },
     "metadata": {},
     "output_type": "display_data"
    },
    {
     "data": {
      "text/html": [
       "<pre style=\"white-space:pre;overflow-x:auto;line-height:normal;font-family:Menlo,'DejaVu Sans Mono',consolas,'Courier New',monospace\"><span style=\"font-style: italic\">                                                   Error Details                                                   </span>\n",
       "╔═════════╤═══════════════════════════════════════════════════════════════════════════════════════════════════════╗\n",
       "║<span style=\"font-weight: bold\"> Attempt </span>│<span style=\"font-weight: bold\"> Error                                                                                                 </span>║\n",
       "╟─────────┼───────────────────────────────────────────────────────────────────────────────────────────────────────╢\n",
       "║<span style=\"color: #008080; text-decoration-color: #008080\"> 1       </span>│<span style=\"color: #800000; text-decoration-color: #800000\"> Attempt 1: list index out of range                                                                    </span>║\n",
       "║<span style=\"color: #008080; text-decoration-color: #008080\"> 2       </span>│<span style=\"color: #800000; text-decoration-color: #800000\"> Attempt 2: The truth value of an array with more than one element is ambiguous. Use a.any() or        </span>║\n",
       "║<span style=\"color: #008080; text-decoration-color: #008080\">         </span>│<span style=\"color: #800000; text-decoration-color: #800000\"> a.all()                                                                                               </span>║\n",
       "║<span style=\"color: #008080; text-decoration-color: #008080\"> 3       </span>│<span style=\"color: #800000; text-decoration-color: #800000\"> Attempt 3: The truth value of an array with more than one element is ambiguous. Use a.any() or        </span>║\n",
       "║<span style=\"color: #008080; text-decoration-color: #008080\">         </span>│<span style=\"color: #800000; text-decoration-color: #800000\"> a.all()                                                                                               </span>║\n",
       "╚═════════╧═══════════════════════════════════════════════════════════════════════════════════════════════════════╝\n",
       "</pre>\n"
      ],
      "text/plain": [
       "\u001b[3m                                                   Error Details                                                   \u001b[0m\n",
       "╔═════════╤═══════════════════════════════════════════════════════════════════════════════════════════════════════╗\n",
       "║\u001b[1m \u001b[0m\u001b[1mAttempt\u001b[0m\u001b[1m \u001b[0m│\u001b[1m \u001b[0m\u001b[1mError                                                                                                \u001b[0m\u001b[1m \u001b[0m║\n",
       "╟─────────┼───────────────────────────────────────────────────────────────────────────────────────────────────────╢\n",
       "║\u001b[36m \u001b[0m\u001b[36m1      \u001b[0m\u001b[36m \u001b[0m│\u001b[31m \u001b[0m\u001b[31mAttempt 1: list index out of range                                                                   \u001b[0m\u001b[31m \u001b[0m║\n",
       "║\u001b[36m \u001b[0m\u001b[36m2      \u001b[0m\u001b[36m \u001b[0m│\u001b[31m \u001b[0m\u001b[31mAttempt 2: The truth value of an array with more than one element is ambiguous. Use a.any() or       \u001b[0m\u001b[31m \u001b[0m║\n",
       "║\u001b[36m         \u001b[0m│\u001b[31m \u001b[0m\u001b[31ma.all()                                                                                              \u001b[0m\u001b[31m \u001b[0m║\n",
       "║\u001b[36m \u001b[0m\u001b[36m3      \u001b[0m\u001b[36m \u001b[0m│\u001b[31m \u001b[0m\u001b[31mAttempt 3: The truth value of an array with more than one element is ambiguous. Use a.any() or       \u001b[0m\u001b[31m \u001b[0m║\n",
       "║\u001b[36m         \u001b[0m│\u001b[31m \u001b[0m\u001b[31ma.all()                                                                                              \u001b[0m\u001b[31m \u001b[0m║\n",
       "╚═════════╧═══════════════════════════════════════════════════════════════════════════════════════════════════════╝\n"
      ]
     },
     "metadata": {},
     "output_type": "display_data"
    },
    {
     "data": {
      "text/html": [
       "<pre style=\"white-space:pre;overflow-x:auto;line-height:normal;font-family:Menlo,'DejaVu Sans Mono',consolas,'Courier New',monospace\">The following step failed: <span style=\"color: #008080; text-decoration-color: #008080; font-weight: bold\">7</span>. Model Validation Strategy: Split the data into training, validation, and test sets. \n",
       "If class imbalance is significant, use stratified splitting to maintain class proportions in each set. Use Cross \n",
       "validation such as `StratifiedKFold` if you have less data for training.\n",
       "</pre>\n"
      ],
      "text/plain": [
       "The following step failed: \u001b[1;36m7\u001b[0m. Model Validation Strategy: Split the data into training, validation, and test sets. \n",
       "If class imbalance is significant, use stratified splitting to maintain class proportions in each set. Use Cross \n",
       "validation such as `StratifiedKFold` if you have less data for training.\n"
      ]
     },
     "metadata": {},
     "output_type": "display_data"
    }
   ],
   "source": [
    "for step in steps:\n",
    "    try:\n",
    "        sess.chat(step)\n",
    "    except:\n",
    "        c.print(f\"The following step failed: {step}\")"
   ]
  }
 ],
 "metadata": {
  "kernelspec": {
   "display_name": "Python 3",
   "language": "python",
   "name": "python3"
  },
  "language_info": {
   "codemirror_mode": {
    "name": "ipython",
    "version": 3
   },
   "file_extension": ".py",
   "mimetype": "text/x-python",
   "name": "python",
   "nbconvert_exporter": "python",
   "pygments_lexer": "ipython3",
   "version": "3.12.10"
  }
 },
 "nbformat": 4,
 "nbformat_minor": 2
}
