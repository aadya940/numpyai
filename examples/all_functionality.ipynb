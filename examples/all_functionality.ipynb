{
 "cells": [
  {
   "cell_type": "code",
   "execution_count": 1,
   "metadata": {},
   "outputs": [
    {
     "data": {
      "text/html": [
       "<pre style=\"white-space:pre;overflow-x:auto;line-height:normal;font-family:Menlo,'DejaVu Sans Mono',consolas,'Courier New',monospace\"><span style=\"color: #808000; text-decoration-color: #808000\">Ensure your API KEY is set for your LLM as an environment variable.</span>\n",
       "</pre>\n"
      ],
      "text/plain": [
       "\u001b[33mEnsure your API KEY is set for your LLM as an environment variable.\u001b[0m\n"
      ]
     },
     "metadata": {},
     "output_type": "display_data"
    },
    {
     "data": {
      "text/html": [
       "<pre style=\"white-space:pre;overflow-x:auto;line-height:normal;font-family:Menlo,'DejaVu Sans Mono',consolas,'Courier New',monospace\"><span style=\"color: #808000; text-decoration-color: #808000\">Ensure your API KEY is set for your LLM as an environment variable.</span>\n",
       "</pre>\n"
      ],
      "text/plain": [
       "\u001b[33mEnsure your API KEY is set for your LLM as an environment variable.\u001b[0m\n"
      ]
     },
     "metadata": {},
     "output_type": "display_data"
    }
   ],
   "source": [
    "import numpyai as npi\n",
    "import numpy as np"
   ]
  },
  {
   "cell_type": "markdown",
   "metadata": {},
   "source": [
    "### Natural language imputation"
   ]
  },
  {
   "cell_type": "code",
   "execution_count": 2,
   "metadata": {},
   "outputs": [],
   "source": [
    "# Sample data with NaNs\n",
    "data = np.array([[1, 2, 3, 4, 5, np.nan], [np.nan, 3, 5, 3.1415, 2, 2]])\n",
    "arr = npi.array(data)"
   ]
  },
  {
   "cell_type": "markdown",
   "metadata": {},
   "source": [
    "### Natural language imputation"
   ]
  },
  {
   "cell_type": "code",
   "execution_count": 3,
   "metadata": {},
   "outputs": [
    {
     "data": {
      "text/html": [
       "<pre style=\"white-space:pre;overflow-x:auto;line-height:normal;font-family:Menlo,'DejaVu Sans Mono',consolas,'Courier New',monospace\"><span style=\"color: #000080; text-decoration-color: #000080\">╭─────────────────────────────────────────────────────────────────────────────────────────────────────────────────╮</span>\n",
       "<span style=\"color: #000080; text-decoration-color: #000080\">│</span> <span style=\"color: #008080; text-decoration-color: #008080; font-weight: bold\">Query:</span> Impute missing values with NumPy.                                                                        <span style=\"color: #000080; text-decoration-color: #000080\">│</span>\n",
       "<span style=\"color: #000080; text-decoration-color: #000080\">╰─────────────────────────────────────────────────────────────────────────────────────────────────────────────────╯</span>\n",
       "</pre>\n"
      ],
      "text/plain": [
       "\u001b[34m╭─────────────────────────────────────────────────────────────────────────────────────────────────────────────────╮\u001b[0m\n",
       "\u001b[34m│\u001b[0m \u001b[1;36mQuery:\u001b[0m Impute missing values with NumPy.                                                                        \u001b[34m│\u001b[0m\n",
       "\u001b[34m╰─────────────────────────────────────────────────────────────────────────────────────────────────────────────────╯\u001b[0m\n"
      ]
     },
     "metadata": {},
     "output_type": "display_data"
    },
    {
     "name": "stdout",
     "output_type": "stream",
     "text": [
      "Output array after imputation:\n",
      "[[1.      2.      3.      4.      5.      3.01415]\n",
      " [3.01415 3.      5.      3.1415  2.      2.     ]]\n",
      "\n",
      "Metadata:\n",
      "The variable output is a numpy array with NaN values replaced by the mean of the non-NaN values in the original array.\n",
      "Validation: Imputation successful, Valid: True\n"
     ]
    },
    {
     "data": {
      "text/html": [
       "<pre style=\"white-space:pre;overflow-x:auto;line-height:normal;font-family:Menlo,'DejaVu Sans Mono',consolas,'Courier New',monospace\"><span style=\"color: #008000; text-decoration-color: #008000; font-weight: bold\">✓</span> Validation successful!\n",
       "</pre>\n"
      ],
      "text/plain": [
       "\u001b[1;32m✓\u001b[0m Validation successful!\n"
      ]
     },
     "metadata": {},
     "output_type": "display_data"
    }
   ],
   "source": [
    "imputed_arr = arr.chat(\"Impute missing values with NumPy.\")"
   ]
  },
  {
   "cell_type": "markdown",
   "metadata": {},
   "source": [
    "### Basic operations"
   ]
  },
  {
   "cell_type": "code",
   "execution_count": 4,
   "metadata": {},
   "outputs": [
    {
     "name": "stdout",
     "output_type": "stream",
     "text": [
      "Addition:\n",
      " [[ 3.       6.       9.      12.      15.       9.04245]\n",
      " [ 9.04245  9.      15.       9.4245   6.       6.     ]]\n",
      "Subtraction:\n",
      " [[-1.      -2.      -3.      -4.      -5.      -3.01415]\n",
      " [-3.01415 -3.      -5.      -3.1415  -2.      -2.     ]]\n",
      "Multiplication:\n",
      " [[ 2.          8.         18.         32.         50.         18.17020044]\n",
      " [18.17020044 18.         50.         19.7380445   8.          8.        ]]\n",
      "Division:\n",
      " [[0.5 0.5 0.5 0.5 0.5 0.5]\n",
      " [0.5 0.5 0.5 0.5 0.5 0.5]]\n"
     ]
    }
   ],
   "source": [
    "arr2 = npi.array(data * 2)\n",
    "print(\"Addition:\\n\", (arr + arr2).data)\n",
    "print(\"Subtraction:\\n\", (arr - arr2).data)\n",
    "print(\"Multiplication:\\n\", (arr * arr2).data)\n",
    "print(\"Division:\\n\", (arr / arr2).data)\n"
   ]
  },
  {
   "cell_type": "markdown",
   "metadata": {},
   "source": [
    "### Scalar operations\n"
   ]
  },
  {
   "cell_type": "code",
   "execution_count": 5,
   "metadata": {},
   "outputs": [
    {
     "name": "stdout",
     "output_type": "stream",
     "text": [
      "Scalar multiplication:\n",
      " [[ 3.       6.       9.      12.      15.       9.04245]\n",
      " [ 9.04245  9.      15.       9.4245   6.       6.     ]]\n",
      "Scalar addition:\n",
      " [[11.      12.      13.      14.      15.      13.01415]\n",
      " [13.01415 13.      15.      13.1415  12.      12.     ]]\n"
     ]
    }
   ],
   "source": [
    "print(\"Scalar multiplication:\\n\", (arr * 3).data)\n",
    "print(\"Scalar addition:\\n\", (10 + arr).data)\n"
   ]
  },
  {
   "cell_type": "markdown",
   "metadata": {},
   "source": [
    "### Advanced operations"
   ]
  },
  {
   "cell_type": "code",
   "execution_count": 6,
   "metadata": {},
   "outputs": [
    {
     "name": "stdout",
     "output_type": "stream",
     "text": [
      "Matrix multiplication:\n",
      " [[128.17020045 105.2169    ]\n",
      " [105.2169     121.90824495]]\n",
      "Mean:\n",
      " numpyai.array(shape=(6,), dtype=float64)\n",
      "Max:\n",
      " numpyai.array(shape=(2,), dtype=float64)\n"
     ]
    }
   ],
   "source": [
    "print(\"Matrix multiplication:\\n\", (arr @ arr2.T).data)\n",
    "print(\"Mean:\\n\", arr.mean(axis=0))\n",
    "print(\"Max:\\n\", arr.max(axis=1))"
   ]
  },
  {
   "cell_type": "markdown",
   "metadata": {},
   "source": [
    "### Indexing, slicing, and reshaping\n"
   ]
  },
  {
   "cell_type": "code",
   "execution_count": 7,
   "metadata": {},
   "outputs": [
    {
     "name": "stdout",
     "output_type": "stream",
     "text": [
      "Slice: [2. 3. 4.]\n",
      "Reshape:\n",
      " [[1.      2.      3.      4.     ]\n",
      " [5.      3.01415 3.01415 3.     ]\n",
      " [5.      3.1415  2.      2.     ]]\n"
     ]
    }
   ],
   "source": [
    "print(\"Slice:\", arr[0, 1:4].data)\n",
    "print(\"Reshape:\\n\", arr.reshape(3, 4).data)"
   ]
  },
  {
   "cell_type": "markdown",
   "metadata": {},
   "source": [
    "### Complex queries"
   ]
  },
  {
   "cell_type": "code",
   "execution_count": 8,
   "metadata": {},
   "outputs": [
    {
     "data": {
      "text/html": [
       "<pre style=\"white-space:pre;overflow-x:auto;line-height:normal;font-family:Menlo,'DejaVu Sans Mono',consolas,'Courier New',monospace\"><span style=\"color: #000080; text-decoration-color: #000080\">╭─────────────────────────────────────────────────────────────────────────────────────────────────────────────────╮</span>\n",
       "<span style=\"color: #000080; text-decoration-color: #000080\">│</span> <span style=\"color: #008080; text-decoration-color: #008080; font-weight: bold\">Query:</span> Compute correlation matrix                                                                               <span style=\"color: #000080; text-decoration-color: #000080\">│</span>\n",
       "<span style=\"color: #000080; text-decoration-color: #000080\">╰─────────────────────────────────────────────────────────────────────────────────────────────────────────────────╯</span>\n",
       "</pre>\n"
      ],
      "text/plain": [
       "\u001b[34m╭─────────────────────────────────────────────────────────────────────────────────────────────────────────────────╮\u001b[0m\n",
       "\u001b[34m│\u001b[0m \u001b[1;36mQuery:\u001b[0m Compute correlation matrix                                                                               \u001b[34m│\u001b[0m\n",
       "\u001b[34m╰─────────────────────────────────────────────────────────────────────────────────────────────────────────────────╯\u001b[0m\n"
      ]
     },
     "metadata": {},
     "output_type": "display_data"
    },
    {
     "name": "stdout",
     "output_type": "stream",
     "text": [
      "Correlation Matrix:\n",
      "[[ 1.          0.45799646 -0.07534757 -0.68125148  0.08586308 -0.23461142\n",
      "  -0.32912413  0.08177738  0.6861603   0.58670975]\n",
      " [ 0.45799646  1.          0.20827796  0.06710745  0.35651935 -0.15403255\n",
      "  -0.4041375  -0.06942013  0.31790915  0.26665723]\n",
      " [-0.07534757  0.20827796  1.          0.51484825  0.11097359 -0.49996827\n",
      "   0.08941882  0.30862134 -0.4844444   0.12959387]\n",
      " [-0.68125148  0.06710745  0.51484825  1.         -0.11807369 -0.06906067\n",
      "   0.10771133 -0.1029193  -0.56672968 -0.13574218]\n",
      " [ 0.08586308  0.35651935  0.11097359 -0.11807369  1.         -0.21684007\n",
      "   0.31861134  0.55273655 -0.35788114 -0.40666716]\n",
      " [-0.23461142 -0.15403255 -0.49996827 -0.06906067 -0.21684007  1.\n",
      "  -0.31389051 -0.45531493  0.08282061  0.18460819]\n",
      " [-0.32912413 -0.4041375   0.08941882  0.10771133  0.31861134 -0.31389051\n",
      "   1.          0.45641853 -0.57021685 -0.39098291]\n",
      " [ 0.08177738 -0.06942013  0.30862134 -0.1029193   0.55273655 -0.45531493\n",
      "   0.45641853  1.         -0.57461273 -0.4262186 ]\n",
      " [ 0.6861603   0.31790915 -0.4844444  -0.56672968 -0.35788114  0.08282061\n",
      "  -0.57021685 -0.57461273  1.          0.53642536]\n",
      " [ 0.58670975  0.26665723  0.12959387 -0.13574218 -0.40666716  0.18460819\n",
      "  -0.39098291 -0.4262186   0.53642536  1.        ]]\n",
      "Validation: Symmetry: True, Diagonal ones: True, Valid: True\n"
     ]
    },
    {
     "data": {
      "text/html": [
       "<pre style=\"white-space:pre;overflow-x:auto;line-height:normal;font-family:Menlo,'DejaVu Sans Mono',consolas,'Courier New',monospace\"><span style=\"color: #008000; text-decoration-color: #008000; font-weight: bold\">✓</span> Validation successful!\n",
       "</pre>\n"
      ],
      "text/plain": [
       "\u001b[1;32m✓\u001b[0m Validation successful!\n"
      ]
     },
     "metadata": {},
     "output_type": "display_data"
    }
   ],
   "source": [
    "complex_arr = npi.array(np.random.rand(10, 10))\n",
    "# Increase Max Tries for Complex Queries.\n",
    "complex_arr.MAX_TRIES = 5\n",
    "\n",
    "corr_matrix = complex_arr.chat(\"Compute correlation matrix\")"
   ]
  },
  {
   "cell_type": "code",
   "execution_count": 9,
   "metadata": {},
   "outputs": [
    {
     "data": {
      "text/html": [
       "<pre style=\"white-space:pre;overflow-x:auto;line-height:normal;font-family:Menlo,'DejaVu Sans Mono',consolas,'Courier New',monospace\"><span style=\"color: #000080; text-decoration-color: #000080\">╭─────────────────────────────────────────────────────────────────────────────────────────────────────────────────╮</span>\n",
       "<span style=\"color: #000080; text-decoration-color: #000080\">│</span> <span style=\"color: #008080; text-decoration-color: #008080; font-weight: bold\">Query:</span> Find eigenvectors and eigenvalues                                                                        <span style=\"color: #000080; text-decoration-color: #000080\">│</span>\n",
       "<span style=\"color: #000080; text-decoration-color: #000080\">╰─────────────────────────────────────────────────────────────────────────────────────────────────────────────────╯</span>\n",
       "</pre>\n"
      ],
      "text/plain": [
       "\u001b[34m╭─────────────────────────────────────────────────────────────────────────────────────────────────────────────────╮\u001b[0m\n",
       "\u001b[34m│\u001b[0m \u001b[1;36mQuery:\u001b[0m Find eigenvectors and eigenvalues                                                                        \u001b[34m│\u001b[0m\n",
       "\u001b[34m╰─────────────────────────────────────────────────────────────────────────────────────────────────────────────────╯\u001b[0m\n"
      ]
     },
     "metadata": {},
     "output_type": "display_data"
    },
    {
     "name": "stdout",
     "output_type": "stream",
     "text": [
      "Eigenvalues: [ 4.86956375+0.j         -0.81148906+0.j          0.56585683+0.72450093j\n",
      "  0.56585683-0.72450093j -0.22404762+0.4766903j  -0.22404762-0.4766903j\n",
      " -0.11100627+0.j          0.72147122+0.3617766j   0.72147122-0.3617766j\n",
      "  0.42863917+0.j        ]\n",
      "Eigenvectors: [[ 0.30515343+0.j         -0.1545949 +0.j         -0.45634741+0.j\n",
      "  -0.45634741-0.j         -0.03650833-0.2848947j  -0.03650833+0.2848947j\n",
      "   0.63861777+0.j         -0.47105744+0.j         -0.47105744-0.j\n",
      "   0.34153812+0.j        ]\n",
      " [ 0.25032709+0.j         -0.55290295+0.j          0.17161941+0.08771013j\n",
      "   0.17161941-0.08771013j  0.22967582+0.24262079j  0.22967582-0.24262079j\n",
      "  -0.059117  +0.j          0.43371287-0.08756248j  0.43371287+0.08756248j\n",
      "  -0.32239753+0.j        ]\n",
      " [ 0.33551778+0.j         -0.23962491+0.j          0.12270585+0.16005695j\n",
      "   0.12270585-0.16005695j -0.42997607+0.j         -0.42997607-0.j\n",
      "   0.13101517+0.j         -0.14245243-0.00864979j -0.14245243+0.00864979j\n",
      "  -0.31812605+0.j        ]\n",
      " [ 0.35887739+0.j          0.47309187+0.j          0.14516901+0.31349699j\n",
      "   0.14516901-0.31349699j -0.01136086-0.03880233j -0.01136086+0.03880233j\n",
      "   0.20684627+0.j          0.06806809+0.23189386j  0.06806809-0.23189386j\n",
      "   0.4078269 +0.j        ]\n",
      " [ 0.42547454+0.j          0.4468568 +0.j         -0.38698014-0.06109247j\n",
      "  -0.38698014+0.06109247j -0.00780041-0.22697544j -0.00780041+0.22697544j\n",
      "  -0.20653809+0.j         -0.3232484 -0.17067549j -0.3232484 +0.17067549j\n",
      "   0.25895351+0.j        ]\n",
      " [ 0.29540009+0.j          0.23932872+0.j          0.10132725+0.20473718j\n",
      "   0.10132725-0.20473718j -0.16197262-0.19033625j -0.16197262+0.19033625j\n",
      "   0.24358934+0.j          0.3039529 +0.07982357j  0.3039529 -0.07982357j\n",
      "  -0.58770306+0.j        ]\n",
      " [ 0.33966564+0.j         -0.12130884+0.j          0.19070852-0.29237844j\n",
      "   0.19070852+0.29237844j -0.11179794+0.30487638j -0.11179794-0.30487638j\n",
      "   0.12121003+0.j          0.26682998-0.13198132j  0.26682998+0.13198132j\n",
      "   0.00913135+0.j        ]\n",
      " [ 0.30475099+0.j         -0.03683336+0.j          0.18957006-0.20502998j\n",
      "   0.18957006+0.20502998j  0.38242652+0.14569837j  0.38242652-0.14569837j\n",
      "  -0.29851036+0.j         -0.09116536-0.06563256j -0.09116536+0.06563256j\n",
      "  -0.0736254 +0.j        ]\n",
      " [ 0.22006552+0.j          0.14417812+0.j         -0.05614077+0.25967805j\n",
      "  -0.05614077-0.25967805j -0.17146508+0.33391699j -0.17146508-0.33391699j\n",
      "  -0.2636224 +0.j          0.03000187+0.35442821j  0.03000187-0.35442821j\n",
      "  -0.16112298+0.j        ]\n",
      " [ 0.27908426+0.j         -0.30877764+0.j          0.16098114-0.30425739j\n",
      "   0.16098114+0.30425739j  0.27456296-0.12695826j  0.27456296+0.12695826j\n",
      "  -0.50341966+0.j          0.20073634-0.05590956j  0.20073634+0.05590956j\n",
      "   0.26070687+0.j        ]]\n",
      "Eigenvalue/eigenvector relation check: True, Valid: True\n"
     ]
    },
    {
     "data": {
      "text/html": [
       "<pre style=\"white-space:pre;overflow-x:auto;line-height:normal;font-family:Menlo,'DejaVu Sans Mono',consolas,'Courier New',monospace\"><span style=\"color: #008000; text-decoration-color: #008000; font-weight: bold\">✓</span> Validation successful!\n",
       "</pre>\n"
      ],
      "text/plain": [
       "\u001b[1;32m✓\u001b[0m Validation successful!\n"
      ]
     },
     "metadata": {},
     "output_type": "display_data"
    }
   ],
   "source": [
    "eigen_result = complex_arr.chat(\"Find eigenvectors and eigenvalues\")"
   ]
  },
  {
   "cell_type": "markdown",
   "metadata": {},
   "source": [
    "### Working with Multiple Arrays"
   ]
  },
  {
   "cell_type": "code",
   "execution_count": 10,
   "metadata": {},
   "outputs": [],
   "source": [
    "# Define Arrays\n",
    "arr1 = np.array([[1, 2, 3], [4, 5, 6]])\n",
    "arr2 = np.random.random((2, 3))"
   ]
  },
  {
   "cell_type": "code",
   "execution_count": 11,
   "metadata": {},
   "outputs": [],
   "source": [
    "# Start a NumpyAISession\n",
    "sess = npi.NumpyAISession([arr1, arr2])"
   ]
  },
  {
   "cell_type": "code",
   "execution_count": 12,
   "metadata": {},
   "outputs": [
    {
     "data": {
      "text/html": [
       "<pre style=\"white-space:pre;overflow-x:auto;line-height:normal;font-family:Menlo,'DejaVu Sans Mono',consolas,'Courier New',monospace\"><span style=\"color: #000080; text-decoration-color: #000080\">╭─────────────────────────────────────────────────────────────────────────────────────────────────────────────────╮</span>\n",
       "<span style=\"color: #000080; text-decoration-color: #000080\">│</span> <span style=\"color: #008080; text-decoration-color: #008080; font-weight: bold\">Query:</span> Impute the first array with the mean of the second array.                                                <span style=\"color: #000080; text-decoration-color: #000080\">│</span>\n",
       "<span style=\"color: #000080; text-decoration-color: #000080\">╰─────────────────────────────────────────────────────────────────────────────────────────────────────────────────╯</span>\n",
       "</pre>\n"
      ],
      "text/plain": [
       "\u001b[34m╭─────────────────────────────────────────────────────────────────────────────────────────────────────────────────╮\u001b[0m\n",
       "\u001b[34m│\u001b[0m \u001b[1;36mQuery:\u001b[0m Impute the first array with the mean of the second array.                                                \u001b[34m│\u001b[0m\n",
       "\u001b[34m╰─────────────────────────────────────────────────────────────────────────────────────────────────────────────────╯\u001b[0m\n"
      ]
     },
     "metadata": {},
     "output_type": "display_data"
    },
    {
     "name": "stdout",
     "output_type": "stream",
     "text": [
      "[[1. 2. 3.]\n",
      " [4. 5. 6.]]\n",
      "The variable output is a numpy array. It is a copy of arr1, but with NaN values replaced by the mean of arr2, ensuring no NaN values are present.\n",
      "Output Array:\n",
      "[[1. 2. 3.]\n",
      " [4. 5. 6.]]\n",
      "\n",
      "Metadata:\n",
      "The variable output is a numpy array, where NaN, infinity, and zero values in arr1 are replaced by the mean of arr2.  arr1 was converted to float type to accommodate potential floating point mean imputation.\n"
     ]
    }
   ],
   "source": [
    "imputed_array = sess.chat(\"Impute the first array with the mean of the second array.\")"
   ]
  },
  {
   "cell_type": "code",
   "execution_count": 13,
   "metadata": {},
   "outputs": [
    {
     "data": {
      "text/html": [
       "<pre style=\"white-space:pre;overflow-x:auto;line-height:normal;font-family:Menlo,'DejaVu Sans Mono',consolas,'Courier New',monospace\"><span style=\"color: #000080; text-decoration-color: #000080\">╭─────────────────────────────────────────────────────────────────────────────────────────────────────────────────╮</span>\n",
       "<span style=\"color: #000080; text-decoration-color: #000080\">│</span> <span style=\"color: #008080; text-decoration-color: #008080; font-weight: bold\">Query:</span> Multiply the second array by the sum of the fourier transform of the first array.                        <span style=\"color: #000080; text-decoration-color: #000080\">│</span>\n",
       "<span style=\"color: #000080; text-decoration-color: #000080\">╰─────────────────────────────────────────────────────────────────────────────────────────────────────────────────╯</span>\n",
       "</pre>\n"
      ],
      "text/plain": [
       "\u001b[34m╭─────────────────────────────────────────────────────────────────────────────────────────────────────────────────╮\u001b[0m\n",
       "\u001b[34m│\u001b[0m \u001b[1;36mQuery:\u001b[0m Multiply the second array by the sum of the fourier transform of the first array.                        \u001b[34m│\u001b[0m\n",
       "\u001b[34m╰─────────────────────────────────────────────────────────────────────────────────────────────────────────────────╯\u001b[0m\n"
      ]
     },
     "metadata": {},
     "output_type": "display_data"
    },
    {
     "name": "stdout",
     "output_type": "stream",
     "text": [
      "Output Array:\n",
      "[[4.1668813 +0.j 5.10101469+0.j 2.27922249+0.j]\n",
      " [1.55711901+0.j 0.006571  +0.j 5.41696891+0.j]]\n",
      "\n",
      "Metadata:\n",
      "The variable output is a numpy array arr2 multiplied by the sum of the 2D Fourier transform of arr1.\n",
      "The shape of the original arr1 is: (2, 3)\n",
      "The shape of the original arr2 is: (2, 3)\n",
      "The sum of the fourier transform of arr1 is: (6+0j)\n",
      "The shape of the output array is: (2, 3)\n"
     ]
    },
    {
     "name": "stderr",
     "output_type": "stream",
     "text": [
      "C:\\Users\\aadya\\AppData\\Local\\Packages\\PythonSoftwareFoundation.Python.3.12_qbz5n2kfra8p0\\LocalCache\\local-packages\\Python312\\site-packages\\numpyai\\_utils.py:97: ComplexWarning: Casting complex values to real discards the imaginary part\n",
      "  \"min\": float(output.min()),\n",
      "C:\\Users\\aadya\\AppData\\Local\\Packages\\PythonSoftwareFoundation.Python.3.12_qbz5n2kfra8p0\\LocalCache\\local-packages\\Python312\\site-packages\\numpyai\\_utils.py:98: ComplexWarning: Casting complex values to real discards the imaginary part\n",
      "  \"max\": float(output.max()),\n",
      "C:\\Users\\aadya\\AppData\\Local\\Packages\\PythonSoftwareFoundation.Python.3.12_qbz5n2kfra8p0\\LocalCache\\local-packages\\Python312\\site-packages\\numpyai\\_utils.py:99: ComplexWarning: Casting complex values to real discards the imaginary part\n",
      "  \"mean\": float(output.mean()),\n"
     ]
    },
    {
     "data": {
      "text/plain": [
       "array([[4.1668813 +0.j, 5.10101469+0.j, 2.27922249+0.j],\n",
       "       [1.55711901+0.j, 0.006571  +0.j, 5.41696891+0.j]])"
      ]
     },
     "execution_count": 13,
     "metadata": {},
     "output_type": "execute_result"
    }
   ],
   "source": [
    "# A complex problem.\n",
    "sess.chat(\"Multiply the second array by the sum of the fourier transform of the first array.\")"
   ]
  }
 ],
 "metadata": {
  "kernelspec": {
   "display_name": "Python 3",
   "language": "python",
   "name": "python3"
  },
  "language_info": {
   "codemirror_mode": {
    "name": "ipython",
    "version": 3
   },
   "file_extension": ".py",
   "mimetype": "text/x-python",
   "name": "python",
   "nbconvert_exporter": "python",
   "pygments_lexer": "ipython3",
   "version": "3.12.10"
  }
 },
 "nbformat": 4,
 "nbformat_minor": 2
}
