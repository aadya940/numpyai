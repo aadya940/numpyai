{
 "cells": [
  {
   "cell_type": "code",
   "execution_count": 1,
   "metadata": {},
   "outputs": [
    {
     "name": "stderr",
     "output_type": "stream",
     "text": [
      "C:\\Users\\aadya\\AppData\\Local\\Packages\\PythonSoftwareFoundation.Python.3.12_qbz5n2kfra8p0\\LocalCache\\local-packages\\Python312\\site-packages\\tqdm\\auto.py:21: TqdmWarning: IProgress not found. Please update jupyter and ipywidgets. See https://ipywidgets.readthedocs.io/en/stable/user_install.html\n",
      "  from .autonotebook import tqdm as notebook_tqdm\n"
     ]
    },
    {
     "data": {
      "text/html": [
       "<pre style=\"white-space:pre;overflow-x:auto;line-height:normal;font-family:Menlo,'DejaVu Sans Mono',consolas,'Courier New',monospace\"><span style=\"color: #7fbfbf; text-decoration-color: #7fbfbf\">[18:08:16] </span>Ensure your API KEY is set for your LLM as an environment variable.                         <a href=\"file://C:\\Users\\aadya\\AppData\\Local\\Packages\\PythonSoftwareFoundation.Python.3.12_qbz5n2kfra8p0\\LocalCache\\local-packages\\Python312\\site-packages\\numpyai\\_array.py\" target=\"_blank\"><span style=\"color: #7f7f7f; text-decoration-color: #7f7f7f\">_array.py</span></a><span style=\"color: #7f7f7f; text-decoration-color: #7f7f7f\">:</span><a href=\"file://C:\\Users\\aadya\\AppData\\Local\\Packages\\PythonSoftwareFoundation.Python.3.12_qbz5n2kfra8p0\\LocalCache\\local-packages\\Python312\\site-packages\\numpyai\\_array.py#13\" target=\"_blank\"><span style=\"color: #7f7f7f; text-decoration-color: #7f7f7f\">13</span></a>\n",
       "</pre>\n"
      ],
      "text/plain": [
       "\u001b[2;36m[18:08:16]\u001b[0m\u001b[2;36m \u001b[0mEnsure your API KEY is set for your LLM as an environment variable.                         \u001b]8;id=556327;file://C:\\Users\\aadya\\AppData\\Local\\Packages\\PythonSoftwareFoundation.Python.3.12_qbz5n2kfra8p0\\LocalCache\\local-packages\\Python312\\site-packages\\numpyai\\_array.py\u001b\\\u001b[2m_array.py\u001b[0m\u001b]8;;\u001b\\\u001b[2m:\u001b[0m\u001b]8;id=353169;file://C:\\Users\\aadya\\AppData\\Local\\Packages\\PythonSoftwareFoundation.Python.3.12_qbz5n2kfra8p0\\LocalCache\\local-packages\\Python312\\site-packages\\numpyai\\_array.py#13\u001b\\\u001b[2m13\u001b[0m\u001b]8;;\u001b\\\n"
      ]
     },
     "metadata": {},
     "output_type": "display_data"
    }
   ],
   "source": [
    "import numpyai as npi\n",
    "import numpy as np"
   ]
  },
  {
   "cell_type": "markdown",
   "metadata": {},
   "source": [
    "### Natural language imputation"
   ]
  },
  {
   "cell_type": "code",
   "execution_count": 2,
   "metadata": {},
   "outputs": [],
   "source": [
    "# Sample data with NaNs\n",
    "data = np.array([[1, 2, 3, 4, 5, np.nan], [np.nan, 3, 5, 3.1415, 2, 2]])\n",
    "arr = npi.array(data)"
   ]
  },
  {
   "cell_type": "markdown",
   "metadata": {},
   "source": [
    "### Natural language imputation"
   ]
  },
  {
   "cell_type": "code",
   "execution_count": 3,
   "metadata": {},
   "outputs": [
    {
     "data": {
      "text/html": [
       "<pre style=\"white-space:pre;overflow-x:auto;line-height:normal;font-family:Menlo,'DejaVu Sans Mono',consolas,'Courier New',monospace\"><span style=\"color: #7fbfbf; text-decoration-color: #7fbfbf\">[18:08:29] </span>llm response is:                                                                           <a href=\"file://C:\\Users\\aadya\\AppData\\Local\\Packages\\PythonSoftwareFoundation.Python.3.12_qbz5n2kfra8p0\\LocalCache\\local-packages\\Python312\\site-packages\\numpyai\\_array.py\" target=\"_blank\"><span style=\"color: #7f7f7f; text-decoration-color: #7f7f7f\">_array.py</span></a><span style=\"color: #7f7f7f; text-decoration-color: #7f7f7f\">:</span><a href=\"file://C:\\Users\\aadya\\AppData\\Local\\Packages\\PythonSoftwareFoundation.Python.3.12_qbz5n2kfra8p0\\LocalCache\\local-packages\\Python312\\site-packages\\numpyai\\_array.py#534\" target=\"_blank\"><span style=\"color: #7f7f7f; text-decoration-color: #7f7f7f\">534</span></a>\n",
       "<span style=\"color: #7fbfbf; text-decoration-color: #7fbfbf\">           </span> ```python                                                                                 <span style=\"color: #7f7f7f; text-decoration-color: #7f7f7f\">             </span>\n",
       "<span style=\"color: #7fbfbf; text-decoration-color: #7fbfbf\">           </span># Calculate the mean of the array, ignoring NaN values                                     <span style=\"color: #7f7f7f; text-decoration-color: #7f7f7f\">             </span>\n",
       "<span style=\"color: #7fbfbf; text-decoration-color: #7fbfbf\">           </span>mean_val = <span style=\"color: #800080; text-decoration-color: #800080; font-weight: bold\">np.nanmean</span><span style=\"font-weight: bold\">(</span>arr<span style=\"font-weight: bold\">)</span>                                                                 <span style=\"color: #7f7f7f; text-decoration-color: #7f7f7f\">             </span>\n",
       "<span style=\"color: #7fbfbf; text-decoration-color: #7fbfbf\">           </span><span style=\"color: #800080; text-decoration-color: #800080; font-weight: bold\">print</span><span style=\"font-weight: bold\">(</span>f\"Mean value <span style=\"font-weight: bold\">(</span>ignoring NaNs<span style=\"font-weight: bold\">)</span>: <span style=\"font-weight: bold\">{</span>mean_val<span style=\"font-weight: bold\">}</span>\"<span style=\"font-weight: bold\">)</span>                                           <span style=\"color: #7f7f7f; text-decoration-color: #7f7f7f\">             </span>\n",
       "<span style=\"color: #7fbfbf; text-decoration-color: #7fbfbf\">           </span>                                                                                           <span style=\"color: #7f7f7f; text-decoration-color: #7f7f7f\">             </span>\n",
       "<span style=\"color: #7fbfbf; text-decoration-color: #7fbfbf\">           </span># Replace NaN values with the calculated mean                                              <span style=\"color: #7f7f7f; text-decoration-color: #7f7f7f\">             </span>\n",
       "<span style=\"color: #7fbfbf; text-decoration-color: #7fbfbf\">           </span>arr = mean_val                                                                             <span style=\"color: #7f7f7f; text-decoration-color: #7f7f7f\">             </span>\n",
       "<span style=\"color: #7fbfbf; text-decoration-color: #7fbfbf\">           </span><span style=\"color: #800080; text-decoration-color: #800080; font-weight: bold\">print</span><span style=\"font-weight: bold\">(</span>f\"Array after NaN imputation:\\n<span style=\"font-weight: bold\">{</span>arr<span style=\"font-weight: bold\">}</span>\"<span style=\"font-weight: bold\">)</span>                                               <span style=\"color: #7f7f7f; text-decoration-color: #7f7f7f\">             </span>\n",
       "<span style=\"color: #7fbfbf; text-decoration-color: #7fbfbf\">           </span>                                                                                           <span style=\"color: #7f7f7f; text-decoration-color: #7f7f7f\">             </span>\n",
       "<span style=\"color: #7fbfbf; text-decoration-color: #7fbfbf\">           </span>output = arr                                                                               <span style=\"color: #7f7f7f; text-decoration-color: #7f7f7f\">             </span>\n",
       "<span style=\"color: #7fbfbf; text-decoration-color: #7fbfbf\">           </span>```                                                                                        <span style=\"color: #7f7f7f; text-decoration-color: #7f7f7f\">             </span>\n",
       "</pre>\n"
      ],
      "text/plain": [
       "\u001b[2;36m[18:08:29]\u001b[0m\u001b[2;36m \u001b[0mllm response is:                                                                           \u001b]8;id=364526;file://C:\\Users\\aadya\\AppData\\Local\\Packages\\PythonSoftwareFoundation.Python.3.12_qbz5n2kfra8p0\\LocalCache\\local-packages\\Python312\\site-packages\\numpyai\\_array.py\u001b\\\u001b[2m_array.py\u001b[0m\u001b]8;;\u001b\\\u001b[2m:\u001b[0m\u001b]8;id=897781;file://C:\\Users\\aadya\\AppData\\Local\\Packages\\PythonSoftwareFoundation.Python.3.12_qbz5n2kfra8p0\\LocalCache\\local-packages\\Python312\\site-packages\\numpyai\\_array.py#534\u001b\\\u001b[2m534\u001b[0m\u001b]8;;\u001b\\\n",
       "\u001b[2;36m           \u001b[0m ```python                                                                                 \u001b[2m             \u001b[0m\n",
       "\u001b[2;36m           \u001b[0m# Calculate the mean of the array, ignoring NaN values                                     \u001b[2m             \u001b[0m\n",
       "\u001b[2;36m           \u001b[0mmean_val = \u001b[1;35mnp.nanmean\u001b[0m\u001b[1m(\u001b[0marr\u001b[1m)\u001b[0m                                                                 \u001b[2m             \u001b[0m\n",
       "\u001b[2;36m           \u001b[0m\u001b[1;35mprint\u001b[0m\u001b[1m(\u001b[0mf\"Mean value \u001b[1m(\u001b[0mignoring NaNs\u001b[1m)\u001b[0m: \u001b[1m{\u001b[0mmean_val\u001b[1m}\u001b[0m\"\u001b[1m)\u001b[0m                                           \u001b[2m             \u001b[0m\n",
       "\u001b[2;36m           \u001b[0m                                                                                           \u001b[2m             \u001b[0m\n",
       "\u001b[2;36m           \u001b[0m# Replace NaN values with the calculated mean                                              \u001b[2m             \u001b[0m\n",
       "\u001b[2;36m           \u001b[0marr = mean_val                                                                             \u001b[2m             \u001b[0m\n",
       "\u001b[2;36m           \u001b[0m\u001b[1;35mprint\u001b[0m\u001b[1m(\u001b[0mf\"Array after NaN imputation:\\n\u001b[1m{\u001b[0marr\u001b[1m}\u001b[0m\"\u001b[1m)\u001b[0m                                               \u001b[2m             \u001b[0m\n",
       "\u001b[2;36m           \u001b[0m                                                                                           \u001b[2m             \u001b[0m\n",
       "\u001b[2;36m           \u001b[0moutput = arr                                                                               \u001b[2m             \u001b[0m\n",
       "\u001b[2;36m           \u001b[0m```                                                                                        \u001b[2m             \u001b[0m\n"
      ]
     },
     "metadata": {},
     "output_type": "display_data"
    },
    {
     "data": {
      "text/html": [
       "<pre style=\"white-space:pre;overflow-x:auto;line-height:normal;font-family:Menlo,'DejaVu Sans Mono',consolas,'Courier New',monospace\"><span style=\"color: #7fbfbf; text-decoration-color: #7fbfbf\">           </span>The following code will be executed:                                                       <a href=\"file://C:\\Users\\aadya\\AppData\\Local\\Packages\\PythonSoftwareFoundation.Python.3.12_qbz5n2kfra8p0\\LocalCache\\local-packages\\Python312\\site-packages\\numpyai\\_array.py\" target=\"_blank\"><span style=\"color: #7f7f7f; text-decoration-color: #7f7f7f\">_array.py</span></a><span style=\"color: #7f7f7f; text-decoration-color: #7f7f7f\">:</span><a href=\"file://C:\\Users\\aadya\\AppData\\Local\\Packages\\PythonSoftwareFoundation.Python.3.12_qbz5n2kfra8p0\\LocalCache\\local-packages\\Python312\\site-packages\\numpyai\\_array.py#553\" target=\"_blank\"><span style=\"color: #7f7f7f; text-decoration-color: #7f7f7f\">553</span></a>\n",
       "<span style=\"color: #7fbfbf; text-decoration-color: #7fbfbf\">           </span> # Calculate the mean of the array, ignoring NaN values                                    <span style=\"color: #7f7f7f; text-decoration-color: #7f7f7f\">             </span>\n",
       "<span style=\"color: #7fbfbf; text-decoration-color: #7fbfbf\">           </span>mean_val = <span style=\"color: #800080; text-decoration-color: #800080; font-weight: bold\">np.nanmean</span><span style=\"font-weight: bold\">(</span>arr<span style=\"font-weight: bold\">)</span>                                                                 <span style=\"color: #7f7f7f; text-decoration-color: #7f7f7f\">             </span>\n",
       "<span style=\"color: #7fbfbf; text-decoration-color: #7fbfbf\">           </span><span style=\"color: #800080; text-decoration-color: #800080; font-weight: bold\">print</span><span style=\"font-weight: bold\">(</span>f\"Mean value <span style=\"font-weight: bold\">(</span>ignoring NaNs<span style=\"font-weight: bold\">)</span>: <span style=\"font-weight: bold\">{</span>mean_val<span style=\"font-weight: bold\">}</span>\"<span style=\"font-weight: bold\">)</span>                                           <span style=\"color: #7f7f7f; text-decoration-color: #7f7f7f\">             </span>\n",
       "<span style=\"color: #7fbfbf; text-decoration-color: #7fbfbf\">           </span>                                                                                           <span style=\"color: #7f7f7f; text-decoration-color: #7f7f7f\">             </span>\n",
       "<span style=\"color: #7fbfbf; text-decoration-color: #7fbfbf\">           </span># Replace NaN values with the calculated mean                                              <span style=\"color: #7f7f7f; text-decoration-color: #7f7f7f\">             </span>\n",
       "<span style=\"color: #7fbfbf; text-decoration-color: #7fbfbf\">           </span>arr = mean_val                                                                             <span style=\"color: #7f7f7f; text-decoration-color: #7f7f7f\">             </span>\n",
       "<span style=\"color: #7fbfbf; text-decoration-color: #7fbfbf\">           </span><span style=\"color: #800080; text-decoration-color: #800080; font-weight: bold\">print</span><span style=\"font-weight: bold\">(</span>f\"Array after NaN imputation:\\n<span style=\"font-weight: bold\">{</span>arr<span style=\"font-weight: bold\">}</span>\"<span style=\"font-weight: bold\">)</span>                                               <span style=\"color: #7f7f7f; text-decoration-color: #7f7f7f\">             </span>\n",
       "<span style=\"color: #7fbfbf; text-decoration-color: #7fbfbf\">           </span>                                                                                           <span style=\"color: #7f7f7f; text-decoration-color: #7f7f7f\">             </span>\n",
       "<span style=\"color: #7fbfbf; text-decoration-color: #7fbfbf\">           </span>output = arr                                                                               <span style=\"color: #7f7f7f; text-decoration-color: #7f7f7f\">             </span>\n",
       "</pre>\n"
      ],
      "text/plain": [
       "\u001b[2;36m          \u001b[0m\u001b[2;36m \u001b[0mThe following code will be executed:                                                       \u001b]8;id=835496;file://C:\\Users\\aadya\\AppData\\Local\\Packages\\PythonSoftwareFoundation.Python.3.12_qbz5n2kfra8p0\\LocalCache\\local-packages\\Python312\\site-packages\\numpyai\\_array.py\u001b\\\u001b[2m_array.py\u001b[0m\u001b]8;;\u001b\\\u001b[2m:\u001b[0m\u001b]8;id=506654;file://C:\\Users\\aadya\\AppData\\Local\\Packages\\PythonSoftwareFoundation.Python.3.12_qbz5n2kfra8p0\\LocalCache\\local-packages\\Python312\\site-packages\\numpyai\\_array.py#553\u001b\\\u001b[2m553\u001b[0m\u001b]8;;\u001b\\\n",
       "\u001b[2;36m           \u001b[0m # Calculate the mean of the array, ignoring NaN values                                    \u001b[2m             \u001b[0m\n",
       "\u001b[2;36m           \u001b[0mmean_val = \u001b[1;35mnp.nanmean\u001b[0m\u001b[1m(\u001b[0marr\u001b[1m)\u001b[0m                                                                 \u001b[2m             \u001b[0m\n",
       "\u001b[2;36m           \u001b[0m\u001b[1;35mprint\u001b[0m\u001b[1m(\u001b[0mf\"Mean value \u001b[1m(\u001b[0mignoring NaNs\u001b[1m)\u001b[0m: \u001b[1m{\u001b[0mmean_val\u001b[1m}\u001b[0m\"\u001b[1m)\u001b[0m                                           \u001b[2m             \u001b[0m\n",
       "\u001b[2;36m           \u001b[0m                                                                                           \u001b[2m             \u001b[0m\n",
       "\u001b[2;36m           \u001b[0m# Replace NaN values with the calculated mean                                              \u001b[2m             \u001b[0m\n",
       "\u001b[2;36m           \u001b[0marr = mean_val                                                                             \u001b[2m             \u001b[0m\n",
       "\u001b[2;36m           \u001b[0m\u001b[1;35mprint\u001b[0m\u001b[1m(\u001b[0mf\"Array after NaN imputation:\\n\u001b[1m{\u001b[0marr\u001b[1m}\u001b[0m\"\u001b[1m)\u001b[0m                                               \u001b[2m             \u001b[0m\n",
       "\u001b[2;36m           \u001b[0m                                                                                           \u001b[2m             \u001b[0m\n",
       "\u001b[2;36m           \u001b[0moutput = arr                                                                               \u001b[2m             \u001b[0m\n"
      ]
     },
     "metadata": {},
     "output_type": "display_data"
    },
    {
     "name": "stdout",
     "output_type": "stream",
     "text": [
      "Mean value (ignoring NaNs): 3.01415\n",
      "Array after NaN imputation:\n",
      "[[1.      2.      3.      4.      5.      3.01415]\n",
      " [3.01415 3.      5.      3.1415  2.      2.     ]]\n"
     ]
    },
    {
     "data": {
      "text/html": [
       "<pre style=\"white-space:pre;overflow-x:auto;line-height:normal;font-family:Menlo,'DejaVu Sans Mono',consolas,'Courier New',monospace\"><span style=\"color: #7fbfbf; text-decoration-color: #7fbfbf\">[18:08:30] </span>The following code will be executed as validation/test:                                    <a href=\"file://C:\\Users\\aadya\\AppData\\Local\\Packages\\PythonSoftwareFoundation.Python.3.12_qbz5n2kfra8p0\\LocalCache\\local-packages\\Python312\\site-packages\\numpyai\\_array.py\" target=\"_blank\"><span style=\"color: #7f7f7f; text-decoration-color: #7f7f7f\">_array.py</span></a><span style=\"color: #7f7f7f; text-decoration-color: #7f7f7f\">:</span><a href=\"file://C:\\Users\\aadya\\AppData\\Local\\Packages\\PythonSoftwareFoundation.Python.3.12_qbz5n2kfra8p0\\LocalCache\\local-packages\\Python312\\site-packages\\numpyai\\_array.py#475\" target=\"_blank\"><span style=\"color: #7f7f7f; text-decoration-color: #7f7f7f\">475</span></a>\n",
       "<span style=\"color: #7fbfbf; text-decoration-color: #7fbfbf\">           </span>                        arr_copy = <span style=\"color: #800080; text-decoration-color: #800080; font-weight: bold\">arr.copy</span><span style=\"font-weight: bold\">()</span>                                              <span style=\"color: #7f7f7f; text-decoration-color: #7f7f7f\">             </span>\n",
       "<span style=\"color: #7fbfbf; text-decoration-color: #7fbfbf\">           </span>mean_val = <span style=\"color: #800080; text-decoration-color: #800080; font-weight: bold\">np.nanmean</span><span style=\"font-weight: bold\">(</span>arr_copy<span style=\"font-weight: bold\">)</span>                                                            <span style=\"color: #7f7f7f; text-decoration-color: #7f7f7f\">             </span>\n",
       "<span style=\"color: #7fbfbf; text-decoration-color: #7fbfbf\">           </span>arr_copy = mean_val                                                                        <span style=\"color: #7f7f7f; text-decoration-color: #7f7f7f\">             </span>\n",
       "<span style=\"color: #7fbfbf; text-decoration-color: #7fbfbf\">           </span>output = <span style=\"color: #800080; text-decoration-color: #800080; font-weight: bold\">np.allclose</span><span style=\"font-weight: bold\">(</span>arr_copy, code_out, <span style=\"color: #808000; text-decoration-color: #808000\">rtol</span>=<span style=\"color: #008080; text-decoration-color: #008080; font-weight: bold\">1e-5</span><span style=\"font-weight: bold\">)</span>                                        <span style=\"color: #7f7f7f; text-decoration-color: #7f7f7f\">             </span>\n",
       "<span style=\"color: #7fbfbf; text-decoration-color: #7fbfbf\">           </span><span style=\"color: #800080; text-decoration-color: #800080; font-weight: bold\">print</span><span style=\"font-weight: bold\">(</span>f\"Validation result: <span style=\"font-weight: bold\">{</span>output<span style=\"font-weight: bold\">}</span>\"<span style=\"font-weight: bold\">)</span>                                                      <span style=\"color: #7f7f7f; text-decoration-color: #7f7f7f\">             </span>\n",
       "<span style=\"color: #7fbfbf; text-decoration-color: #7fbfbf\">           </span>                                                                                           <span style=\"color: #7f7f7f; text-decoration-color: #7f7f7f\">             </span>\n",
       "</pre>\n"
      ],
      "text/plain": [
       "\u001b[2;36m[18:08:30]\u001b[0m\u001b[2;36m \u001b[0mThe following code will be executed as validation/test:                                    \u001b]8;id=8458;file://C:\\Users\\aadya\\AppData\\Local\\Packages\\PythonSoftwareFoundation.Python.3.12_qbz5n2kfra8p0\\LocalCache\\local-packages\\Python312\\site-packages\\numpyai\\_array.py\u001b\\\u001b[2m_array.py\u001b[0m\u001b]8;;\u001b\\\u001b[2m:\u001b[0m\u001b]8;id=345949;file://C:\\Users\\aadya\\AppData\\Local\\Packages\\PythonSoftwareFoundation.Python.3.12_qbz5n2kfra8p0\\LocalCache\\local-packages\\Python312\\site-packages\\numpyai\\_array.py#475\u001b\\\u001b[2m475\u001b[0m\u001b]8;;\u001b\\\n",
       "\u001b[2;36m           \u001b[0m                        arr_copy = \u001b[1;35marr.copy\u001b[0m\u001b[1m(\u001b[0m\u001b[1m)\u001b[0m                                              \u001b[2m             \u001b[0m\n",
       "\u001b[2;36m           \u001b[0mmean_val = \u001b[1;35mnp.nanmean\u001b[0m\u001b[1m(\u001b[0marr_copy\u001b[1m)\u001b[0m                                                            \u001b[2m             \u001b[0m\n",
       "\u001b[2;36m           \u001b[0marr_copy = mean_val                                                                        \u001b[2m             \u001b[0m\n",
       "\u001b[2;36m           \u001b[0moutput = \u001b[1;35mnp.allclose\u001b[0m\u001b[1m(\u001b[0marr_copy, code_out, \u001b[33mrtol\u001b[0m=\u001b[1;36m1e\u001b[0m\u001b[1;36m-5\u001b[0m\u001b[1m)\u001b[0m                                        \u001b[2m             \u001b[0m\n",
       "\u001b[2;36m           \u001b[0m\u001b[1;35mprint\u001b[0m\u001b[1m(\u001b[0mf\"Validation result: \u001b[1m{\u001b[0moutput\u001b[1m}\u001b[0m\"\u001b[1m)\u001b[0m                                                      \u001b[2m             \u001b[0m\n",
       "\u001b[2;36m           \u001b[0m                                                                                           \u001b[2m             \u001b[0m\n"
      ]
     },
     "metadata": {},
     "output_type": "display_data"
    },
    {
     "name": "stdout",
     "output_type": "stream",
     "text": [
      "Validation result: True\n"
     ]
    }
   ],
   "source": [
    "imputed_arr = arr.chat(\"Impute missing values with NumPy.\")"
   ]
  },
  {
   "cell_type": "markdown",
   "metadata": {},
   "source": [
    "### Basic operations"
   ]
  },
  {
   "cell_type": "code",
   "execution_count": 13,
   "metadata": {},
   "outputs": [
    {
     "name": "stdout",
     "output_type": "stream",
     "text": [
      "Addition:\n",
      " [[ 3.       6.       9.      12.      15.       9.04245]\n",
      " [ 9.04245  9.      15.       9.4245   6.       6.     ]]\n",
      "Subtraction:\n",
      " [[-1.      -2.      -3.      -4.      -5.      -3.01415]\n",
      " [-3.01415 -3.      -5.      -3.1415  -2.      -2.     ]]\n",
      "Multiplication:\n",
      " [[ 2.          8.         18.         32.         50.         18.17020044]\n",
      " [18.17020044 18.         50.         19.7380445   8.          8.        ]]\n",
      "Division:\n",
      " [[0.5 0.5 0.5 0.5 0.5 0.5]\n",
      " [0.5 0.5 0.5 0.5 0.5 0.5]]\n"
     ]
    }
   ],
   "source": [
    "arr2 = npi.array(data * 2)\n",
    "print(\"Addition:\\n\", (arr + arr2).get_array())\n",
    "print(\"Subtraction:\\n\", (arr - arr2).get_array())\n",
    "print(\"Multiplication:\\n\", (arr * arr2).get_array())\n",
    "print(\"Division:\\n\", (arr / arr2).get_array())\n"
   ]
  },
  {
   "cell_type": "markdown",
   "metadata": {},
   "source": [
    "### Scalar operations\n"
   ]
  },
  {
   "cell_type": "code",
   "execution_count": 14,
   "metadata": {},
   "outputs": [
    {
     "name": "stdout",
     "output_type": "stream",
     "text": [
      "Scalar multiplication:\n",
      " [[ 3.       6.       9.      12.      15.       9.04245]\n",
      " [ 9.04245  9.      15.       9.4245   6.       6.     ]]\n",
      "Scalar addition:\n",
      " [[11.      12.      13.      14.      15.      13.01415]\n",
      " [13.01415 13.      15.      13.1415  12.      12.     ]]\n"
     ]
    }
   ],
   "source": [
    "print(\"Scalar multiplication:\\n\", (arr * 3).get_array())\n",
    "print(\"Scalar addition:\\n\", (10 + arr).get_array())\n"
   ]
  },
  {
   "cell_type": "markdown",
   "metadata": {},
   "source": [
    "### Advanced operations"
   ]
  },
  {
   "cell_type": "code",
   "execution_count": 15,
   "metadata": {},
   "outputs": [
    {
     "name": "stdout",
     "output_type": "stream",
     "text": [
      "Matrix multiplication:\n",
      " [[128.17020045 105.2169    ]\n",
      " [105.2169     121.90824495]]\n",
      "Mean:\n",
      " numpyai.array(array([2.007075, 2.5     , 4.      , 3.57075 , 3.5     , 2.507075]))\n",
      "Max:\n",
      " numpyai.array(array([5., 5.]))\n"
     ]
    }
   ],
   "source": [
    "print(\"Matrix multiplication:\\n\", (arr @ arr2.T).get_array())\n",
    "print(\"Mean:\\n\", arr.mean(axis=0))\n",
    "print(\"Max:\\n\", arr.max(axis=1))\n"
   ]
  },
  {
   "cell_type": "markdown",
   "metadata": {},
   "source": [
    "### Indexing, slicing, and reshaping\n"
   ]
  },
  {
   "cell_type": "code",
   "execution_count": 16,
   "metadata": {},
   "outputs": [
    {
     "name": "stdout",
     "output_type": "stream",
     "text": [
      "Slice: [2. 3. 4.]\n",
      "Reshape:\n",
      " [[1.      2.      3.      4.     ]\n",
      " [5.      3.01415 3.01415 3.     ]\n",
      " [5.      3.1415  2.      2.     ]]\n"
     ]
    }
   ],
   "source": [
    "print(\"Slice:\", arr[0, 1:4].get_array())\n",
    "print(\"Reshape:\\n\", arr.reshape(3, 4).get_array())\n"
   ]
  },
  {
   "cell_type": "markdown",
   "metadata": {},
   "source": [
    "### Complex queries"
   ]
  },
  {
   "cell_type": "code",
   "execution_count": 9,
   "metadata": {},
   "outputs": [
    {
     "data": {
      "text/html": [
       "<pre style=\"white-space:pre;overflow-x:auto;line-height:normal;font-family:Menlo,'DejaVu Sans Mono',consolas,'Courier New',monospace\"><span style=\"color: #7fbfbf; text-decoration-color: #7fbfbf\">[18:09:49] </span>llm response is:                                                                           <a href=\"file://C:\\Users\\aadya\\AppData\\Local\\Packages\\PythonSoftwareFoundation.Python.3.12_qbz5n2kfra8p0\\LocalCache\\local-packages\\Python312\\site-packages\\numpyai\\_array.py\" target=\"_blank\"><span style=\"color: #7f7f7f; text-decoration-color: #7f7f7f\">_array.py</span></a><span style=\"color: #7f7f7f; text-decoration-color: #7f7f7f\">:</span><a href=\"file://C:\\Users\\aadya\\AppData\\Local\\Packages\\PythonSoftwareFoundation.Python.3.12_qbz5n2kfra8p0\\LocalCache\\local-packages\\Python312\\site-packages\\numpyai\\_array.py#534\" target=\"_blank\"><span style=\"color: #7f7f7f; text-decoration-color: #7f7f7f\">534</span></a>\n",
       "<span style=\"color: #7fbfbf; text-decoration-color: #7fbfbf\">           </span> ```python                                                                                 <span style=\"color: #7f7f7f; text-decoration-color: #7f7f7f\">             </span>\n",
       "<span style=\"color: #7fbfbf; text-decoration-color: #7fbfbf\">           </span># Compute correlation matrix.                                                              <span style=\"color: #7f7f7f; text-decoration-color: #7f7f7f\">             </span>\n",
       "<span style=\"color: #7fbfbf; text-decoration-color: #7fbfbf\">           </span><span style=\"color: #800080; text-decoration-color: #800080; font-weight: bold\">print</span><span style=\"font-weight: bold\">(</span>f\"Original array:\\n<span style=\"font-weight: bold\">{</span>arr<span style=\"font-weight: bold\">}</span>\"<span style=\"font-weight: bold\">)</span>                                                           <span style=\"color: #7f7f7f; text-decoration-color: #7f7f7f\">             </span>\n",
       "<span style=\"color: #7fbfbf; text-decoration-color: #7fbfbf\">           </span>                                                                                           <span style=\"color: #7f7f7f; text-decoration-color: #7f7f7f\">             </span>\n",
       "<span style=\"color: #7fbfbf; text-decoration-color: #7fbfbf\">           </span># Calculate the correlation matrix using numpy.                                            <span style=\"color: #7f7f7f; text-decoration-color: #7f7f7f\">             </span>\n",
       "<span style=\"color: #7fbfbf; text-decoration-color: #7fbfbf\">           </span>output = <span style=\"color: #800080; text-decoration-color: #800080; font-weight: bold\">np.corrcoef</span><span style=\"font-weight: bold\">(</span>arr, <span style=\"color: #808000; text-decoration-color: #808000\">rowvar</span>=<span style=\"color: #ff0000; text-decoration-color: #ff0000; font-style: italic\">False</span><span style=\"font-weight: bold\">)</span>                                                    <span style=\"color: #7f7f7f; text-decoration-color: #7f7f7f\">             </span>\n",
       "<span style=\"color: #7fbfbf; text-decoration-color: #7fbfbf\">           </span>                                                                                           <span style=\"color: #7f7f7f; text-decoration-color: #7f7f7f\">             </span>\n",
       "<span style=\"color: #7fbfbf; text-decoration-color: #7fbfbf\">           </span><span style=\"color: #800080; text-decoration-color: #800080; font-weight: bold\">print</span><span style=\"font-weight: bold\">(</span>f\"\\nCorrelation matrix:\\n<span style=\"font-weight: bold\">{</span>output<span style=\"font-weight: bold\">}</span>\"<span style=\"font-weight: bold\">)</span>                                                  <span style=\"color: #7f7f7f; text-decoration-color: #7f7f7f\">             </span>\n",
       "<span style=\"color: #7fbfbf; text-decoration-color: #7fbfbf\">           </span>```                                                                                        <span style=\"color: #7f7f7f; text-decoration-color: #7f7f7f\">             </span>\n",
       "</pre>\n"
      ],
      "text/plain": [
       "\u001b[2;36m[18:09:49]\u001b[0m\u001b[2;36m \u001b[0mllm response is:                                                                           \u001b]8;id=705585;file://C:\\Users\\aadya\\AppData\\Local\\Packages\\PythonSoftwareFoundation.Python.3.12_qbz5n2kfra8p0\\LocalCache\\local-packages\\Python312\\site-packages\\numpyai\\_array.py\u001b\\\u001b[2m_array.py\u001b[0m\u001b]8;;\u001b\\\u001b[2m:\u001b[0m\u001b]8;id=393348;file://C:\\Users\\aadya\\AppData\\Local\\Packages\\PythonSoftwareFoundation.Python.3.12_qbz5n2kfra8p0\\LocalCache\\local-packages\\Python312\\site-packages\\numpyai\\_array.py#534\u001b\\\u001b[2m534\u001b[0m\u001b]8;;\u001b\\\n",
       "\u001b[2;36m           \u001b[0m ```python                                                                                 \u001b[2m             \u001b[0m\n",
       "\u001b[2;36m           \u001b[0m# Compute correlation matrix.                                                              \u001b[2m             \u001b[0m\n",
       "\u001b[2;36m           \u001b[0m\u001b[1;35mprint\u001b[0m\u001b[1m(\u001b[0mf\"Original array:\\n\u001b[1m{\u001b[0marr\u001b[1m}\u001b[0m\"\u001b[1m)\u001b[0m                                                           \u001b[2m             \u001b[0m\n",
       "\u001b[2;36m           \u001b[0m                                                                                           \u001b[2m             \u001b[0m\n",
       "\u001b[2;36m           \u001b[0m# Calculate the correlation matrix using numpy.                                            \u001b[2m             \u001b[0m\n",
       "\u001b[2;36m           \u001b[0moutput = \u001b[1;35mnp.corrcoef\u001b[0m\u001b[1m(\u001b[0marr, \u001b[33mrowvar\u001b[0m=\u001b[3;91mFalse\u001b[0m\u001b[1m)\u001b[0m                                                    \u001b[2m             \u001b[0m\n",
       "\u001b[2;36m           \u001b[0m                                                                                           \u001b[2m             \u001b[0m\n",
       "\u001b[2;36m           \u001b[0m\u001b[1;35mprint\u001b[0m\u001b[1m(\u001b[0mf\"\\nCorrelation matrix:\\n\u001b[1m{\u001b[0moutput\u001b[1m}\u001b[0m\"\u001b[1m)\u001b[0m                                                  \u001b[2m             \u001b[0m\n",
       "\u001b[2;36m           \u001b[0m```                                                                                        \u001b[2m             \u001b[0m\n"
      ]
     },
     "metadata": {},
     "output_type": "display_data"
    },
    {
     "data": {
      "text/html": [
       "<pre style=\"white-space:pre;overflow-x:auto;line-height:normal;font-family:Menlo,'DejaVu Sans Mono',consolas,'Courier New',monospace\"><span style=\"color: #7fbfbf; text-decoration-color: #7fbfbf\">           </span>The following code will be executed:                                                       <a href=\"file://C:\\Users\\aadya\\AppData\\Local\\Packages\\PythonSoftwareFoundation.Python.3.12_qbz5n2kfra8p0\\LocalCache\\local-packages\\Python312\\site-packages\\numpyai\\_array.py\" target=\"_blank\"><span style=\"color: #7f7f7f; text-decoration-color: #7f7f7f\">_array.py</span></a><span style=\"color: #7f7f7f; text-decoration-color: #7f7f7f\">:</span><a href=\"file://C:\\Users\\aadya\\AppData\\Local\\Packages\\PythonSoftwareFoundation.Python.3.12_qbz5n2kfra8p0\\LocalCache\\local-packages\\Python312\\site-packages\\numpyai\\_array.py#553\" target=\"_blank\"><span style=\"color: #7f7f7f; text-decoration-color: #7f7f7f\">553</span></a>\n",
       "<span style=\"color: #7fbfbf; text-decoration-color: #7fbfbf\">           </span> # Compute correlation matrix.                                                             <span style=\"color: #7f7f7f; text-decoration-color: #7f7f7f\">             </span>\n",
       "<span style=\"color: #7fbfbf; text-decoration-color: #7fbfbf\">           </span><span style=\"color: #800080; text-decoration-color: #800080; font-weight: bold\">print</span><span style=\"font-weight: bold\">(</span>f\"Original array:\\n<span style=\"font-weight: bold\">{</span>arr<span style=\"font-weight: bold\">}</span>\"<span style=\"font-weight: bold\">)</span>                                                           <span style=\"color: #7f7f7f; text-decoration-color: #7f7f7f\">             </span>\n",
       "<span style=\"color: #7fbfbf; text-decoration-color: #7fbfbf\">           </span>                                                                                           <span style=\"color: #7f7f7f; text-decoration-color: #7f7f7f\">             </span>\n",
       "<span style=\"color: #7fbfbf; text-decoration-color: #7fbfbf\">           </span># Calculate the correlation matrix using numpy.                                            <span style=\"color: #7f7f7f; text-decoration-color: #7f7f7f\">             </span>\n",
       "<span style=\"color: #7fbfbf; text-decoration-color: #7fbfbf\">           </span>output = <span style=\"color: #800080; text-decoration-color: #800080; font-weight: bold\">np.corrcoef</span><span style=\"font-weight: bold\">(</span>arr, <span style=\"color: #808000; text-decoration-color: #808000\">rowvar</span>=<span style=\"color: #ff0000; text-decoration-color: #ff0000; font-style: italic\">False</span><span style=\"font-weight: bold\">)</span>                                                    <span style=\"color: #7f7f7f; text-decoration-color: #7f7f7f\">             </span>\n",
       "<span style=\"color: #7fbfbf; text-decoration-color: #7fbfbf\">           </span>                                                                                           <span style=\"color: #7f7f7f; text-decoration-color: #7f7f7f\">             </span>\n",
       "<span style=\"color: #7fbfbf; text-decoration-color: #7fbfbf\">           </span><span style=\"color: #800080; text-decoration-color: #800080; font-weight: bold\">print</span><span style=\"font-weight: bold\">(</span>f\"\\nCorrelation matrix:\\n<span style=\"font-weight: bold\">{</span>output<span style=\"font-weight: bold\">}</span>\"<span style=\"font-weight: bold\">)</span>                                                  <span style=\"color: #7f7f7f; text-decoration-color: #7f7f7f\">             </span>\n",
       "</pre>\n"
      ],
      "text/plain": [
       "\u001b[2;36m          \u001b[0m\u001b[2;36m \u001b[0mThe following code will be executed:                                                       \u001b]8;id=875441;file://C:\\Users\\aadya\\AppData\\Local\\Packages\\PythonSoftwareFoundation.Python.3.12_qbz5n2kfra8p0\\LocalCache\\local-packages\\Python312\\site-packages\\numpyai\\_array.py\u001b\\\u001b[2m_array.py\u001b[0m\u001b]8;;\u001b\\\u001b[2m:\u001b[0m\u001b]8;id=280825;file://C:\\Users\\aadya\\AppData\\Local\\Packages\\PythonSoftwareFoundation.Python.3.12_qbz5n2kfra8p0\\LocalCache\\local-packages\\Python312\\site-packages\\numpyai\\_array.py#553\u001b\\\u001b[2m553\u001b[0m\u001b]8;;\u001b\\\n",
       "\u001b[2;36m           \u001b[0m # Compute correlation matrix.                                                             \u001b[2m             \u001b[0m\n",
       "\u001b[2;36m           \u001b[0m\u001b[1;35mprint\u001b[0m\u001b[1m(\u001b[0mf\"Original array:\\n\u001b[1m{\u001b[0marr\u001b[1m}\u001b[0m\"\u001b[1m)\u001b[0m                                                           \u001b[2m             \u001b[0m\n",
       "\u001b[2;36m           \u001b[0m                                                                                           \u001b[2m             \u001b[0m\n",
       "\u001b[2;36m           \u001b[0m# Calculate the correlation matrix using numpy.                                            \u001b[2m             \u001b[0m\n",
       "\u001b[2;36m           \u001b[0moutput = \u001b[1;35mnp.corrcoef\u001b[0m\u001b[1m(\u001b[0marr, \u001b[33mrowvar\u001b[0m=\u001b[3;91mFalse\u001b[0m\u001b[1m)\u001b[0m                                                    \u001b[2m             \u001b[0m\n",
       "\u001b[2;36m           \u001b[0m                                                                                           \u001b[2m             \u001b[0m\n",
       "\u001b[2;36m           \u001b[0m\u001b[1;35mprint\u001b[0m\u001b[1m(\u001b[0mf\"\\nCorrelation matrix:\\n\u001b[1m{\u001b[0moutput\u001b[1m}\u001b[0m\"\u001b[1m)\u001b[0m                                                  \u001b[2m             \u001b[0m\n"
      ]
     },
     "metadata": {},
     "output_type": "display_data"
    },
    {
     "name": "stdout",
     "output_type": "stream",
     "text": [
      "Original array:\n",
      "[[0.35621169 0.96315431 0.57247549 0.99959103 0.1043437  0.48543476\n",
      "  0.60564853 0.11598363 0.82189312 0.56695423]\n",
      " [0.71515345 0.89988139 0.49972876 0.25169273 0.62441811 0.62330053\n",
      "  0.33417679 0.72046772 0.50280066 0.16801271]\n",
      " [0.26164029 0.61727539 0.78775447 0.10729519 0.61233365 0.85109564\n",
      "  0.8383163  0.74209611 0.30188497 0.65887609]\n",
      " [0.21684702 0.56319493 0.03945928 0.01440208 0.47375635 0.83319574\n",
      "  0.24517333 0.72969469 0.99264858 0.02121741]\n",
      " [0.13361035 0.14716417 0.48706611 0.58546173 0.52901522 0.99815891\n",
      "  0.07754633 0.78834893 0.90887559 0.56741674]\n",
      " [0.3653243  0.79909509 0.19006931 0.14366219 0.81754594 0.7447024\n",
      "  0.98187151 0.88058333 0.64838479 0.98622271]\n",
      " [0.28929606 0.59774347 0.21873757 0.55379776 0.47593991 0.62634475\n",
      "  0.51655071 0.42234461 0.01650188 0.11862765]\n",
      " [0.27512362 0.14627626 0.09289911 0.15211097 0.36172982 0.17054085\n",
      "  0.64419701 0.52317973 0.44246678 0.81209053]\n",
      " [0.34043903 0.4915635  0.15338572 0.18532114 0.40946561 0.35869415\n",
      "  0.07536196 0.14460755 0.21617848 0.75747308]\n",
      " [0.16965358 0.69773903 0.21544218 0.58924848 0.896218   0.52140925\n",
      "  0.64515437 0.95464918 0.97636127 0.39775214]]\n",
      "\n",
      "Correlation matrix:\n",
      "[[ 1.          0.57278657  0.19965341 -0.12420544 -0.03700306 -0.20627191\n",
      "   0.01718917 -0.15916375 -0.30193751 -0.12963429]\n",
      " [ 0.57278657  1.          0.2845046   0.25543046  0.10635351  0.03953975\n",
      "   0.37141743 -0.07096606  0.06024083 -0.20761822]\n",
      " [ 0.19965341  0.2845046   1.          0.32129902 -0.09672891  0.39687013\n",
      "   0.16953989 -0.00210318 -0.0602034   0.06951543]\n",
      " [-0.12420544  0.25543046  0.32129902  1.         -0.34253244 -0.06127062\n",
      "  -0.03585072 -0.34181784  0.23483041 -0.10368862]\n",
      " [-0.03700306  0.10635351 -0.09672891 -0.34253244  1.          0.33687801\n",
      "   0.31832988  0.85351026  0.15143442  0.02974685]\n",
      " [-0.20627191  0.03953975  0.39687013 -0.06127062  0.33687801  1.\n",
      "  -0.08519638  0.53436887  0.31148262 -0.26343209]\n",
      " [ 0.01718917  0.37141743  0.16953989 -0.03585072  0.31832988 -0.08519638\n",
      "   1.          0.28459233 -0.08872315  0.40299337]\n",
      " [-0.15916375 -0.07096606 -0.00210318 -0.34181784  0.85351026  0.53436887\n",
      "   0.28459233  1.          0.42854013 -0.08584894]\n",
      " [-0.30193751  0.06024083 -0.0602034   0.23483041  0.15143442  0.31148262\n",
      "  -0.08872315  0.42854013  1.         -0.10815469]\n",
      " [-0.12963429 -0.20761822  0.06951543 -0.10368862  0.02974685 -0.26343209\n",
      "   0.40299337 -0.08584894 -0.10815469  1.        ]]\n"
     ]
    },
    {
     "data": {
      "text/html": [
       "<pre style=\"white-space:pre;overflow-x:auto;line-height:normal;font-family:Menlo,'DejaVu Sans Mono',consolas,'Courier New',monospace\"><span style=\"color: #7fbfbf; text-decoration-color: #7fbfbf\">[18:09:50] </span>The following code will be executed as validation/test:                                    <a href=\"file://C:\\Users\\aadya\\AppData\\Local\\Packages\\PythonSoftwareFoundation.Python.3.12_qbz5n2kfra8p0\\LocalCache\\local-packages\\Python312\\site-packages\\numpyai\\_array.py\" target=\"_blank\"><span style=\"color: #7f7f7f; text-decoration-color: #7f7f7f\">_array.py</span></a><span style=\"color: #7f7f7f; text-decoration-color: #7f7f7f\">:</span><a href=\"file://C:\\Users\\aadya\\AppData\\Local\\Packages\\PythonSoftwareFoundation.Python.3.12_qbz5n2kfra8p0\\LocalCache\\local-packages\\Python312\\site-packages\\numpyai\\_array.py#475\" target=\"_blank\"><span style=\"color: #7f7f7f; text-decoration-color: #7f7f7f\">475</span></a>\n",
       "<span style=\"color: #7fbfbf; text-decoration-color: #7fbfbf\">           </span>                        arr_centered = arr - <span style=\"color: #800080; text-decoration-color: #800080; font-weight: bold\">np.mean</span><span style=\"font-weight: bold\">(</span>arr, <span style=\"color: #808000; text-decoration-color: #808000\">axis</span>=<span style=\"color: #008080; text-decoration-color: #008080; font-weight: bold\">0</span><span style=\"font-weight: bold\">)</span>                          <span style=\"color: #7f7f7f; text-decoration-color: #7f7f7f\">             </span>\n",
       "<span style=\"color: #7fbfbf; text-decoration-color: #7fbfbf\">           </span>arr_normalized = arr_centered <span style=\"color: #800080; text-decoration-color: #800080\">/</span> <span style=\"color: #800080; text-decoration-color: #800080; font-weight: bold\">np.std</span><span style=\"font-weight: bold\">(</span>arr, <span style=\"color: #808000; text-decoration-color: #808000\">axis</span>=<span style=\"color: #008080; text-decoration-color: #008080; font-weight: bold\">0</span><span style=\"font-weight: bold\">)</span>                                        <span style=\"color: #7f7f7f; text-decoration-color: #7f7f7f\">             </span>\n",
       "<span style=\"color: #7fbfbf; text-decoration-color: #7fbfbf\">           </span>expected_output = <span style=\"color: #800080; text-decoration-color: #800080; font-weight: bold\">np.corrcoef</span><span style=\"font-weight: bold\">(</span>arr.T<span style=\"font-weight: bold\">)</span>                                                       <span style=\"color: #7f7f7f; text-decoration-color: #7f7f7f\">             </span>\n",
       "<span style=\"color: #7fbfbf; text-decoration-color: #7fbfbf\">           </span>                                                                                           <span style=\"color: #7f7f7f; text-decoration-color: #7f7f7f\">             </span>\n",
       "<span style=\"color: #7fbfbf; text-decoration-color: #7fbfbf\">           </span>output = <span style=\"color: #800080; text-decoration-color: #800080; font-weight: bold\">np.allclose</span><span style=\"font-weight: bold\">(</span>expected_output, code_out, <span style=\"color: #808000; text-decoration-color: #808000\">rtol</span>=<span style=\"color: #008080; text-decoration-color: #008080; font-weight: bold\">1e-05</span><span style=\"font-weight: bold\">)</span>                                <span style=\"color: #7f7f7f; text-decoration-color: #7f7f7f\">             </span>\n",
       "<span style=\"color: #7fbfbf; text-decoration-color: #7fbfbf\">           </span><span style=\"color: #800080; text-decoration-color: #800080; font-weight: bold\">print</span><span style=\"font-weight: bold\">(</span>f\"Validation Result: <span style=\"font-weight: bold\">{</span>output<span style=\"font-weight: bold\">}</span>\"<span style=\"font-weight: bold\">)</span>                                                      <span style=\"color: #7f7f7f; text-decoration-color: #7f7f7f\">             </span>\n",
       "<span style=\"color: #7fbfbf; text-decoration-color: #7fbfbf\">           </span>                                                                                           <span style=\"color: #7f7f7f; text-decoration-color: #7f7f7f\">             </span>\n",
       "</pre>\n"
      ],
      "text/plain": [
       "\u001b[2;36m[18:09:50]\u001b[0m\u001b[2;36m \u001b[0mThe following code will be executed as validation/test:                                    \u001b]8;id=768696;file://C:\\Users\\aadya\\AppData\\Local\\Packages\\PythonSoftwareFoundation.Python.3.12_qbz5n2kfra8p0\\LocalCache\\local-packages\\Python312\\site-packages\\numpyai\\_array.py\u001b\\\u001b[2m_array.py\u001b[0m\u001b]8;;\u001b\\\u001b[2m:\u001b[0m\u001b]8;id=195744;file://C:\\Users\\aadya\\AppData\\Local\\Packages\\PythonSoftwareFoundation.Python.3.12_qbz5n2kfra8p0\\LocalCache\\local-packages\\Python312\\site-packages\\numpyai\\_array.py#475\u001b\\\u001b[2m475\u001b[0m\u001b]8;;\u001b\\\n",
       "\u001b[2;36m           \u001b[0m                        arr_centered = arr - \u001b[1;35mnp.mean\u001b[0m\u001b[1m(\u001b[0marr, \u001b[33maxis\u001b[0m=\u001b[1;36m0\u001b[0m\u001b[1m)\u001b[0m                          \u001b[2m             \u001b[0m\n",
       "\u001b[2;36m           \u001b[0marr_normalized = arr_centered \u001b[35m/\u001b[0m \u001b[1;35mnp.std\u001b[0m\u001b[1m(\u001b[0marr, \u001b[33maxis\u001b[0m=\u001b[1;36m0\u001b[0m\u001b[1m)\u001b[0m                                        \u001b[2m             \u001b[0m\n",
       "\u001b[2;36m           \u001b[0mexpected_output = \u001b[1;35mnp.corrcoef\u001b[0m\u001b[1m(\u001b[0marr.T\u001b[1m)\u001b[0m                                                       \u001b[2m             \u001b[0m\n",
       "\u001b[2;36m           \u001b[0m                                                                                           \u001b[2m             \u001b[0m\n",
       "\u001b[2;36m           \u001b[0moutput = \u001b[1;35mnp.allclose\u001b[0m\u001b[1m(\u001b[0mexpected_output, code_out, \u001b[33mrtol\u001b[0m=\u001b[1;36m1e\u001b[0m\u001b[1;36m-05\u001b[0m\u001b[1m)\u001b[0m                                \u001b[2m             \u001b[0m\n",
       "\u001b[2;36m           \u001b[0m\u001b[1;35mprint\u001b[0m\u001b[1m(\u001b[0mf\"Validation Result: \u001b[1m{\u001b[0moutput\u001b[1m}\u001b[0m\"\u001b[1m)\u001b[0m                                                      \u001b[2m             \u001b[0m\n",
       "\u001b[2;36m           \u001b[0m                                                                                           \u001b[2m             \u001b[0m\n"
      ]
     },
     "metadata": {},
     "output_type": "display_data"
    },
    {
     "name": "stdout",
     "output_type": "stream",
     "text": [
      "Validation Result: True\n"
     ]
    },
    {
     "data": {
      "text/html": [
       "<pre style=\"white-space:pre;overflow-x:auto;line-height:normal;font-family:Menlo,'DejaVu Sans Mono',consolas,'Courier New',monospace\"><span style=\"color: #7fbfbf; text-decoration-color: #7fbfbf\">[18:09:51] </span>llm response is:                                                                           <a href=\"file://C:\\Users\\aadya\\AppData\\Local\\Packages\\PythonSoftwareFoundation.Python.3.12_qbz5n2kfra8p0\\LocalCache\\local-packages\\Python312\\site-packages\\numpyai\\_array.py\" target=\"_blank\"><span style=\"color: #7f7f7f; text-decoration-color: #7f7f7f\">_array.py</span></a><span style=\"color: #7f7f7f; text-decoration-color: #7f7f7f\">:</span><a href=\"file://C:\\Users\\aadya\\AppData\\Local\\Packages\\PythonSoftwareFoundation.Python.3.12_qbz5n2kfra8p0\\LocalCache\\local-packages\\Python312\\site-packages\\numpyai\\_array.py#534\" target=\"_blank\"><span style=\"color: #7f7f7f; text-decoration-color: #7f7f7f\">534</span></a>\n",
       "<span style=\"color: #7fbfbf; text-decoration-color: #7fbfbf\">           </span> ```python                                                                                 <span style=\"color: #7f7f7f; text-decoration-color: #7f7f7f\">             </span>\n",
       "<span style=\"color: #7fbfbf; text-decoration-color: #7fbfbf\">           </span># Calculate eigenvalues and eigenvectors                                                   <span style=\"color: #7f7f7f; text-decoration-color: #7f7f7f\">             </span>\n",
       "<span style=\"color: #7fbfbf; text-decoration-color: #7fbfbf\">           </span>eigenvalues, eigenvectors = <span style=\"color: #800080; text-decoration-color: #800080; font-weight: bold\">np.linalg.eig</span><span style=\"font-weight: bold\">(</span>arr<span style=\"font-weight: bold\">)</span>                                             <span style=\"color: #7f7f7f; text-decoration-color: #7f7f7f\">             </span>\n",
       "<span style=\"color: #7fbfbf; text-decoration-color: #7fbfbf\">           </span>                                                                                           <span style=\"color: #7f7f7f; text-decoration-color: #7f7f7f\">             </span>\n",
       "<span style=\"color: #7fbfbf; text-decoration-color: #7fbfbf\">           </span># Assign the result to the output variable                                                 <span style=\"color: #7f7f7f; text-decoration-color: #7f7f7f\">             </span>\n",
       "<span style=\"color: #7fbfbf; text-decoration-color: #7fbfbf\">           </span>output = <span style=\"font-weight: bold\">(</span>eigenvalues, eigenvectors<span style=\"font-weight: bold\">)</span>                                                       <span style=\"color: #7f7f7f; text-decoration-color: #7f7f7f\">             </span>\n",
       "<span style=\"color: #7fbfbf; text-decoration-color: #7fbfbf\">           </span>                                                                                           <span style=\"color: #7f7f7f; text-decoration-color: #7f7f7f\">             </span>\n",
       "<span style=\"color: #7fbfbf; text-decoration-color: #7fbfbf\">           </span># Print the eigenvalues and eigenvectors                                                   <span style=\"color: #7f7f7f; text-decoration-color: #7f7f7f\">             </span>\n",
       "<span style=\"color: #7fbfbf; text-decoration-color: #7fbfbf\">           </span><span style=\"color: #800080; text-decoration-color: #800080; font-weight: bold\">print</span><span style=\"font-weight: bold\">(</span><span style=\"color: #008000; text-decoration-color: #008000\">\"Eigenvalues:\"</span>, eigenvalues<span style=\"font-weight: bold\">)</span>                                                         <span style=\"color: #7f7f7f; text-decoration-color: #7f7f7f\">             </span>\n",
       "<span style=\"color: #7fbfbf; text-decoration-color: #7fbfbf\">           </span><span style=\"color: #800080; text-decoration-color: #800080; font-weight: bold\">print</span><span style=\"font-weight: bold\">(</span><span style=\"color: #008000; text-decoration-color: #008000\">\"Eigenvectors:\"</span>, eigenvectors<span style=\"font-weight: bold\">)</span>                                                       <span style=\"color: #7f7f7f; text-decoration-color: #7f7f7f\">             </span>\n",
       "<span style=\"color: #7fbfbf; text-decoration-color: #7fbfbf\">           </span>```                                                                                        <span style=\"color: #7f7f7f; text-decoration-color: #7f7f7f\">             </span>\n",
       "</pre>\n"
      ],
      "text/plain": [
       "\u001b[2;36m[18:09:51]\u001b[0m\u001b[2;36m \u001b[0mllm response is:                                                                           \u001b]8;id=152955;file://C:\\Users\\aadya\\AppData\\Local\\Packages\\PythonSoftwareFoundation.Python.3.12_qbz5n2kfra8p0\\LocalCache\\local-packages\\Python312\\site-packages\\numpyai\\_array.py\u001b\\\u001b[2m_array.py\u001b[0m\u001b]8;;\u001b\\\u001b[2m:\u001b[0m\u001b]8;id=371762;file://C:\\Users\\aadya\\AppData\\Local\\Packages\\PythonSoftwareFoundation.Python.3.12_qbz5n2kfra8p0\\LocalCache\\local-packages\\Python312\\site-packages\\numpyai\\_array.py#534\u001b\\\u001b[2m534\u001b[0m\u001b]8;;\u001b\\\n",
       "\u001b[2;36m           \u001b[0m ```python                                                                                 \u001b[2m             \u001b[0m\n",
       "\u001b[2;36m           \u001b[0m# Calculate eigenvalues and eigenvectors                                                   \u001b[2m             \u001b[0m\n",
       "\u001b[2;36m           \u001b[0meigenvalues, eigenvectors = \u001b[1;35mnp.linalg.eig\u001b[0m\u001b[1m(\u001b[0marr\u001b[1m)\u001b[0m                                             \u001b[2m             \u001b[0m\n",
       "\u001b[2;36m           \u001b[0m                                                                                           \u001b[2m             \u001b[0m\n",
       "\u001b[2;36m           \u001b[0m# Assign the result to the output variable                                                 \u001b[2m             \u001b[0m\n",
       "\u001b[2;36m           \u001b[0moutput = \u001b[1m(\u001b[0meigenvalues, eigenvectors\u001b[1m)\u001b[0m                                                       \u001b[2m             \u001b[0m\n",
       "\u001b[2;36m           \u001b[0m                                                                                           \u001b[2m             \u001b[0m\n",
       "\u001b[2;36m           \u001b[0m# Print the eigenvalues and eigenvectors                                                   \u001b[2m             \u001b[0m\n",
       "\u001b[2;36m           \u001b[0m\u001b[1;35mprint\u001b[0m\u001b[1m(\u001b[0m\u001b[32m\"Eigenvalues:\"\u001b[0m, eigenvalues\u001b[1m)\u001b[0m                                                         \u001b[2m             \u001b[0m\n",
       "\u001b[2;36m           \u001b[0m\u001b[1;35mprint\u001b[0m\u001b[1m(\u001b[0m\u001b[32m\"Eigenvectors:\"\u001b[0m, eigenvectors\u001b[1m)\u001b[0m                                                       \u001b[2m             \u001b[0m\n",
       "\u001b[2;36m           \u001b[0m```                                                                                        \u001b[2m             \u001b[0m\n"
      ]
     },
     "metadata": {},
     "output_type": "display_data"
    },
    {
     "data": {
      "text/html": [
       "<pre style=\"white-space:pre;overflow-x:auto;line-height:normal;font-family:Menlo,'DejaVu Sans Mono',consolas,'Courier New',monospace\"><span style=\"color: #7fbfbf; text-decoration-color: #7fbfbf\">           </span>The following code will be executed:                                                       <a href=\"file://C:\\Users\\aadya\\AppData\\Local\\Packages\\PythonSoftwareFoundation.Python.3.12_qbz5n2kfra8p0\\LocalCache\\local-packages\\Python312\\site-packages\\numpyai\\_array.py\" target=\"_blank\"><span style=\"color: #7f7f7f; text-decoration-color: #7f7f7f\">_array.py</span></a><span style=\"color: #7f7f7f; text-decoration-color: #7f7f7f\">:</span><a href=\"file://C:\\Users\\aadya\\AppData\\Local\\Packages\\PythonSoftwareFoundation.Python.3.12_qbz5n2kfra8p0\\LocalCache\\local-packages\\Python312\\site-packages\\numpyai\\_array.py#553\" target=\"_blank\"><span style=\"color: #7f7f7f; text-decoration-color: #7f7f7f\">553</span></a>\n",
       "<span style=\"color: #7fbfbf; text-decoration-color: #7fbfbf\">           </span> # Calculate eigenvalues and eigenvectors                                                  <span style=\"color: #7f7f7f; text-decoration-color: #7f7f7f\">             </span>\n",
       "<span style=\"color: #7fbfbf; text-decoration-color: #7fbfbf\">           </span>eigenvalues, eigenvectors = <span style=\"color: #800080; text-decoration-color: #800080; font-weight: bold\">np.linalg.eig</span><span style=\"font-weight: bold\">(</span>arr<span style=\"font-weight: bold\">)</span>                                             <span style=\"color: #7f7f7f; text-decoration-color: #7f7f7f\">             </span>\n",
       "<span style=\"color: #7fbfbf; text-decoration-color: #7fbfbf\">           </span>                                                                                           <span style=\"color: #7f7f7f; text-decoration-color: #7f7f7f\">             </span>\n",
       "<span style=\"color: #7fbfbf; text-decoration-color: #7fbfbf\">           </span># Assign the result to the output variable                                                 <span style=\"color: #7f7f7f; text-decoration-color: #7f7f7f\">             </span>\n",
       "<span style=\"color: #7fbfbf; text-decoration-color: #7fbfbf\">           </span>output = <span style=\"font-weight: bold\">(</span>eigenvalues, eigenvectors<span style=\"font-weight: bold\">)</span>                                                       <span style=\"color: #7f7f7f; text-decoration-color: #7f7f7f\">             </span>\n",
       "<span style=\"color: #7fbfbf; text-decoration-color: #7fbfbf\">           </span>                                                                                           <span style=\"color: #7f7f7f; text-decoration-color: #7f7f7f\">             </span>\n",
       "<span style=\"color: #7fbfbf; text-decoration-color: #7fbfbf\">           </span># Print the eigenvalues and eigenvectors                                                   <span style=\"color: #7f7f7f; text-decoration-color: #7f7f7f\">             </span>\n",
       "<span style=\"color: #7fbfbf; text-decoration-color: #7fbfbf\">           </span><span style=\"color: #800080; text-decoration-color: #800080; font-weight: bold\">print</span><span style=\"font-weight: bold\">(</span><span style=\"color: #008000; text-decoration-color: #008000\">\"Eigenvalues:\"</span>, eigenvalues<span style=\"font-weight: bold\">)</span>                                                         <span style=\"color: #7f7f7f; text-decoration-color: #7f7f7f\">             </span>\n",
       "<span style=\"color: #7fbfbf; text-decoration-color: #7fbfbf\">           </span><span style=\"color: #800080; text-decoration-color: #800080; font-weight: bold\">print</span><span style=\"font-weight: bold\">(</span><span style=\"color: #008000; text-decoration-color: #008000\">\"Eigenvectors:\"</span>, eigenvectors<span style=\"font-weight: bold\">)</span>                                                       <span style=\"color: #7f7f7f; text-decoration-color: #7f7f7f\">             </span>\n",
       "</pre>\n"
      ],
      "text/plain": [
       "\u001b[2;36m          \u001b[0m\u001b[2;36m \u001b[0mThe following code will be executed:                                                       \u001b]8;id=129123;file://C:\\Users\\aadya\\AppData\\Local\\Packages\\PythonSoftwareFoundation.Python.3.12_qbz5n2kfra8p0\\LocalCache\\local-packages\\Python312\\site-packages\\numpyai\\_array.py\u001b\\\u001b[2m_array.py\u001b[0m\u001b]8;;\u001b\\\u001b[2m:\u001b[0m\u001b]8;id=86701;file://C:\\Users\\aadya\\AppData\\Local\\Packages\\PythonSoftwareFoundation.Python.3.12_qbz5n2kfra8p0\\LocalCache\\local-packages\\Python312\\site-packages\\numpyai\\_array.py#553\u001b\\\u001b[2m553\u001b[0m\u001b]8;;\u001b\\\n",
       "\u001b[2;36m           \u001b[0m # Calculate eigenvalues and eigenvectors                                                  \u001b[2m             \u001b[0m\n",
       "\u001b[2;36m           \u001b[0meigenvalues, eigenvectors = \u001b[1;35mnp.linalg.eig\u001b[0m\u001b[1m(\u001b[0marr\u001b[1m)\u001b[0m                                             \u001b[2m             \u001b[0m\n",
       "\u001b[2;36m           \u001b[0m                                                                                           \u001b[2m             \u001b[0m\n",
       "\u001b[2;36m           \u001b[0m# Assign the result to the output variable                                                 \u001b[2m             \u001b[0m\n",
       "\u001b[2;36m           \u001b[0moutput = \u001b[1m(\u001b[0meigenvalues, eigenvectors\u001b[1m)\u001b[0m                                                       \u001b[2m             \u001b[0m\n",
       "\u001b[2;36m           \u001b[0m                                                                                           \u001b[2m             \u001b[0m\n",
       "\u001b[2;36m           \u001b[0m# Print the eigenvalues and eigenvectors                                                   \u001b[2m             \u001b[0m\n",
       "\u001b[2;36m           \u001b[0m\u001b[1;35mprint\u001b[0m\u001b[1m(\u001b[0m\u001b[32m\"Eigenvalues:\"\u001b[0m, eigenvalues\u001b[1m)\u001b[0m                                                         \u001b[2m             \u001b[0m\n",
       "\u001b[2;36m           \u001b[0m\u001b[1;35mprint\u001b[0m\u001b[1m(\u001b[0m\u001b[32m\"Eigenvectors:\"\u001b[0m, eigenvectors\u001b[1m)\u001b[0m                                                       \u001b[2m             \u001b[0m\n"
      ]
     },
     "metadata": {},
     "output_type": "display_data"
    },
    {
     "name": "stdout",
     "output_type": "stream",
     "text": [
      "Eigenvalues: [ 4.88882599+0.j          0.80738661+0.j          0.57068678+0.21201191j\n",
      "  0.57068678-0.21201191j -0.39414207+0.66245957j -0.39414207-0.66245957j\n",
      " -0.38812781+0.34462683j -0.38812781-0.34462683j -0.14370904+0.11546517j\n",
      " -0.14370904-0.11546517j]\n",
      "Eigenvectors: [[ 0.34878931+0.j         -0.61789809+0.j          0.42170566+0.21906345j\n",
      "   0.42170566-0.21906345j -0.0366672 -0.20888495j -0.0366672 +0.20888495j\n",
      "  -0.55456842+0.j         -0.55456842-0.j         -0.38700738+0.16036078j\n",
      "  -0.38700738-0.16036078j]\n",
      " [ 0.34259644+0.j         -0.43549578+0.j          0.15172187+0.2164049j\n",
      "   0.15172187-0.2164049j   0.07627457-0.01552199j  0.07627457+0.01552199j\n",
      "   0.32845789+0.1065615j   0.32845789-0.1065615j   0.38246007-0.08575342j\n",
      "   0.38246007+0.08575342j]\n",
      " [ 0.37714917+0.j          0.13200251+0.j         -0.63895405+0.j\n",
      "  -0.63895405-0.j         -0.00143973+0.12265548j -0.00143973-0.12265548j\n",
      "  -0.03604642-0.06770091j -0.03604642+0.06770091j -0.08620058+0.01558497j\n",
      "  -0.08620058-0.01558497j]\n",
      " [ 0.24984732+0.j         -0.03677916+0.j          0.19582873-0.00974984j\n",
      "   0.19582873+0.00974984j  0.33561312+0.33190043j  0.33561312-0.33190043j\n",
      "   0.11156624-0.30560516j  0.11156624+0.30560516j  0.08547574-0.07413036j\n",
      "   0.08547574+0.07413036j]\n",
      " [ 0.32651934+0.j          0.54935362+0.j         -0.40284625-0.05706911j\n",
      "  -0.40284625+0.05706911j  0.52852339+0.j          0.52852339-0.j\n",
      "  -0.48121707+0.08389549j -0.48121707-0.08389549j -0.45357579+0.07559766j\n",
      "  -0.45357579-0.07559766j]\n",
      " [ 0.41025038+0.j          0.05995035+0.j          0.02421914-0.13172992j\n",
      "   0.02421914+0.13172992j -0.29122427+0.19513263j -0.29122427-0.19513263j\n",
      "   0.19869081-0.16703719j  0.19869081+0.16703719j  0.02078226-0.11037136j\n",
      "   0.02078226+0.11037136j]\n",
      " [ 0.24628939+0.j         -0.20983981+0.j          0.11624131-0.11677037j\n",
      "   0.11624131+0.11677037j  0.04811262-0.31114056j  0.04811262+0.31114056j\n",
      "  -0.15745895+0.12093557j -0.15745895-0.12093557j -0.27099666+0.07770176j\n",
      "  -0.27099666-0.07770176j]\n",
      " [ 0.21774462+0.j          0.10432755+0.j          0.07113887-0.13779037j\n",
      "   0.07113887+0.13779037j -0.29887686+0.18383501j -0.29887686-0.18383501j\n",
      "   0.23218097+0.07531755j  0.23218097-0.07531755j  0.49466342+0.j\n",
      "   0.49466342-0.j        ]\n",
      " [ 0.21258518+0.j          0.00531546+0.j          0.05078902+0.13426799j\n",
      "   0.05078902-0.13426799j -0.19519173-0.08077153j -0.19519173+0.08077153j\n",
      "  -0.07518462+0.12206375j -0.07518462-0.12206375j -0.23576001+0.07359126j\n",
      "  -0.23576001-0.07359126j]\n",
      " [ 0.357945  +0.j          0.22234954+0.j         -0.03917635-0.02830001j\n",
      "  -0.03917635+0.02830001j  0.01754973-0.20425536j  0.01754973+0.20425536j\n",
      "   0.15792541-0.10492691j  0.15792541+0.10492691j  0.19095111-0.06867557j\n",
      "   0.19095111+0.06867557j]]\n"
     ]
    },
    {
     "data": {
      "text/html": [
       "<pre style=\"white-space:pre;overflow-x:auto;line-height:normal;font-family:Menlo,'DejaVu Sans Mono',consolas,'Courier New',monospace\"><span style=\"color: #7fbfbf; text-decoration-color: #7fbfbf\">[18:09:53] </span>The following code will be executed as validation/test:                                    <a href=\"file://C:\\Users\\aadya\\AppData\\Local\\Packages\\PythonSoftwareFoundation.Python.3.12_qbz5n2kfra8p0\\LocalCache\\local-packages\\Python312\\site-packages\\numpyai\\_array.py\" target=\"_blank\"><span style=\"color: #7f7f7f; text-decoration-color: #7f7f7f\">_array.py</span></a><span style=\"color: #7f7f7f; text-decoration-color: #7f7f7f\">:</span><a href=\"file://C:\\Users\\aadya\\AppData\\Local\\Packages\\PythonSoftwareFoundation.Python.3.12_qbz5n2kfra8p0\\LocalCache\\local-packages\\Python312\\site-packages\\numpyai\\_array.py#475\" target=\"_blank\"><span style=\"color: #7f7f7f; text-decoration-color: #7f7f7f\">475</span></a>\n",
       "<span style=\"color: #7fbfbf; text-decoration-color: #7fbfbf\">           </span>                        w, v = <span style=\"color: #800080; text-decoration-color: #800080; font-weight: bold\">np.linalg.eig</span><span style=\"font-weight: bold\">(</span>arr<span style=\"font-weight: bold\">)</span>                                          <span style=\"color: #7f7f7f; text-decoration-color: #7f7f7f\">             </span>\n",
       "<span style=\"color: #7fbfbf; text-decoration-color: #7fbfbf\">           </span><span style=\"color: #800080; text-decoration-color: #800080; font-weight: bold\">print</span><span style=\"font-weight: bold\">(</span>f\"Eigenvalues: <span style=\"font-weight: bold\">{</span>w<span style=\"font-weight: bold\">}</span>\"<span style=\"font-weight: bold\">)</span>                                                                 <span style=\"color: #7f7f7f; text-decoration-color: #7f7f7f\">             </span>\n",
       "<span style=\"color: #7fbfbf; text-decoration-color: #7fbfbf\">           </span><span style=\"color: #800080; text-decoration-color: #800080; font-weight: bold\">print</span><span style=\"font-weight: bold\">(</span>f\"Eigenvectors: <span style=\"font-weight: bold\">{</span>v<span style=\"font-weight: bold\">}</span>\"<span style=\"font-weight: bold\">)</span>                                                                <span style=\"color: #7f7f7f; text-decoration-color: #7f7f7f\">             </span>\n",
       "<span style=\"color: #7fbfbf; text-decoration-color: #7fbfbf\">           </span>                                                                                           <span style=\"color: #7f7f7f; text-decoration-color: #7f7f7f\">             </span>\n",
       "<span style=\"color: #7fbfbf; text-decoration-color: #7fbfbf\">           </span>eigenvalues_close = <span style=\"color: #800080; text-decoration-color: #800080; font-weight: bold\">np.allclose</span><span style=\"font-weight: bold\">(</span>w, code_out<span style=\"font-weight: bold\">[</span><span style=\"color: #008080; text-decoration-color: #008080; font-weight: bold\">0</span><span style=\"font-weight: bold\">]</span>, <span style=\"color: #808000; text-decoration-color: #808000\">rtol</span>=<span style=\"color: #008080; text-decoration-color: #008080; font-weight: bold\">1e-05</span><span style=\"font-weight: bold\">)</span>                                <span style=\"color: #7f7f7f; text-decoration-color: #7f7f7f\">             </span>\n",
       "<span style=\"color: #7fbfbf; text-decoration-color: #7fbfbf\">           </span>eigenvectors_close = <span style=\"color: #800080; text-decoration-color: #800080; font-weight: bold\">np.allclose</span><span style=\"font-weight: bold\">(</span>v, code_out<span style=\"font-weight: bold\">[</span><span style=\"color: #008080; text-decoration-color: #008080; font-weight: bold\">1</span><span style=\"font-weight: bold\">]</span>, <span style=\"color: #808000; text-decoration-color: #808000\">rtol</span>=<span style=\"color: #008080; text-decoration-color: #008080; font-weight: bold\">1e-05</span><span style=\"font-weight: bold\">)</span>                               <span style=\"color: #7f7f7f; text-decoration-color: #7f7f7f\">             </span>\n",
       "<span style=\"color: #7fbfbf; text-decoration-color: #7fbfbf\">           </span>                                                                                           <span style=\"color: #7f7f7f; text-decoration-color: #7f7f7f\">             </span>\n",
       "<span style=\"color: #7fbfbf; text-decoration-color: #7fbfbf\">           </span>output = eigenvalues_close and eigenvectors_close                                          <span style=\"color: #7f7f7f; text-decoration-color: #7f7f7f\">             </span>\n",
       "<span style=\"color: #7fbfbf; text-decoration-color: #7fbfbf\">           </span>                                                                                           <span style=\"color: #7f7f7f; text-decoration-color: #7f7f7f\">             </span>\n",
       "<span style=\"color: #7fbfbf; text-decoration-color: #7fbfbf\">           </span><span style=\"color: #800080; text-decoration-color: #800080; font-weight: bold\">print</span><span style=\"font-weight: bold\">(</span>f\"Eigenvalues close: <span style=\"font-weight: bold\">{</span>eigenvalues_close<span style=\"font-weight: bold\">}</span>\"<span style=\"font-weight: bold\">)</span>                                           <span style=\"color: #7f7f7f; text-decoration-color: #7f7f7f\">             </span>\n",
       "<span style=\"color: #7fbfbf; text-decoration-color: #7fbfbf\">           </span><span style=\"color: #800080; text-decoration-color: #800080; font-weight: bold\">print</span><span style=\"font-weight: bold\">(</span>f\"Eigenvectors close: <span style=\"font-weight: bold\">{</span>eigenvectors_close<span style=\"font-weight: bold\">}</span>\"<span style=\"font-weight: bold\">)</span>                                         <span style=\"color: #7f7f7f; text-decoration-color: #7f7f7f\">             </span>\n",
       "<span style=\"color: #7fbfbf; text-decoration-color: #7fbfbf\">           </span><span style=\"color: #800080; text-decoration-color: #800080; font-weight: bold\">print</span><span style=\"font-weight: bold\">(</span>f\"Validation result: <span style=\"font-weight: bold\">{</span>output<span style=\"font-weight: bold\">}</span>\"<span style=\"font-weight: bold\">)</span>                                                      <span style=\"color: #7f7f7f; text-decoration-color: #7f7f7f\">             </span>\n",
       "<span style=\"color: #7fbfbf; text-decoration-color: #7fbfbf\">           </span>                                                                                           <span style=\"color: #7f7f7f; text-decoration-color: #7f7f7f\">             </span>\n",
       "</pre>\n"
      ],
      "text/plain": [
       "\u001b[2;36m[18:09:53]\u001b[0m\u001b[2;36m \u001b[0mThe following code will be executed as validation/test:                                    \u001b]8;id=295405;file://C:\\Users\\aadya\\AppData\\Local\\Packages\\PythonSoftwareFoundation.Python.3.12_qbz5n2kfra8p0\\LocalCache\\local-packages\\Python312\\site-packages\\numpyai\\_array.py\u001b\\\u001b[2m_array.py\u001b[0m\u001b]8;;\u001b\\\u001b[2m:\u001b[0m\u001b]8;id=47413;file://C:\\Users\\aadya\\AppData\\Local\\Packages\\PythonSoftwareFoundation.Python.3.12_qbz5n2kfra8p0\\LocalCache\\local-packages\\Python312\\site-packages\\numpyai\\_array.py#475\u001b\\\u001b[2m475\u001b[0m\u001b]8;;\u001b\\\n",
       "\u001b[2;36m           \u001b[0m                        w, v = \u001b[1;35mnp.linalg.eig\u001b[0m\u001b[1m(\u001b[0marr\u001b[1m)\u001b[0m                                          \u001b[2m             \u001b[0m\n",
       "\u001b[2;36m           \u001b[0m\u001b[1;35mprint\u001b[0m\u001b[1m(\u001b[0mf\"Eigenvalues: \u001b[1m{\u001b[0mw\u001b[1m}\u001b[0m\"\u001b[1m)\u001b[0m                                                                 \u001b[2m             \u001b[0m\n",
       "\u001b[2;36m           \u001b[0m\u001b[1;35mprint\u001b[0m\u001b[1m(\u001b[0mf\"Eigenvectors: \u001b[1m{\u001b[0mv\u001b[1m}\u001b[0m\"\u001b[1m)\u001b[0m                                                                \u001b[2m             \u001b[0m\n",
       "\u001b[2;36m           \u001b[0m                                                                                           \u001b[2m             \u001b[0m\n",
       "\u001b[2;36m           \u001b[0meigenvalues_close = \u001b[1;35mnp.allclose\u001b[0m\u001b[1m(\u001b[0mw, code_out\u001b[1m[\u001b[0m\u001b[1;36m0\u001b[0m\u001b[1m]\u001b[0m, \u001b[33mrtol\u001b[0m=\u001b[1;36m1e\u001b[0m\u001b[1;36m-05\u001b[0m\u001b[1m)\u001b[0m                                \u001b[2m             \u001b[0m\n",
       "\u001b[2;36m           \u001b[0meigenvectors_close = \u001b[1;35mnp.allclose\u001b[0m\u001b[1m(\u001b[0mv, code_out\u001b[1m[\u001b[0m\u001b[1;36m1\u001b[0m\u001b[1m]\u001b[0m, \u001b[33mrtol\u001b[0m=\u001b[1;36m1e\u001b[0m\u001b[1;36m-05\u001b[0m\u001b[1m)\u001b[0m                               \u001b[2m             \u001b[0m\n",
       "\u001b[2;36m           \u001b[0m                                                                                           \u001b[2m             \u001b[0m\n",
       "\u001b[2;36m           \u001b[0moutput = eigenvalues_close and eigenvectors_close                                          \u001b[2m             \u001b[0m\n",
       "\u001b[2;36m           \u001b[0m                                                                                           \u001b[2m             \u001b[0m\n",
       "\u001b[2;36m           \u001b[0m\u001b[1;35mprint\u001b[0m\u001b[1m(\u001b[0mf\"Eigenvalues close: \u001b[1m{\u001b[0meigenvalues_close\u001b[1m}\u001b[0m\"\u001b[1m)\u001b[0m                                           \u001b[2m             \u001b[0m\n",
       "\u001b[2;36m           \u001b[0m\u001b[1;35mprint\u001b[0m\u001b[1m(\u001b[0mf\"Eigenvectors close: \u001b[1m{\u001b[0meigenvectors_close\u001b[1m}\u001b[0m\"\u001b[1m)\u001b[0m                                         \u001b[2m             \u001b[0m\n",
       "\u001b[2;36m           \u001b[0m\u001b[1;35mprint\u001b[0m\u001b[1m(\u001b[0mf\"Validation result: \u001b[1m{\u001b[0moutput\u001b[1m}\u001b[0m\"\u001b[1m)\u001b[0m                                                      \u001b[2m             \u001b[0m\n",
       "\u001b[2;36m           \u001b[0m                                                                                           \u001b[2m             \u001b[0m\n"
      ]
     },
     "metadata": {},
     "output_type": "display_data"
    },
    {
     "name": "stdout",
     "output_type": "stream",
     "text": [
      "Eigenvalues: [ 4.88882599+0.j          0.80738661+0.j          0.57068678+0.21201191j\n",
      "  0.57068678-0.21201191j -0.39414207+0.66245957j -0.39414207-0.66245957j\n",
      " -0.38812781+0.34462683j -0.38812781-0.34462683j -0.14370904+0.11546517j\n",
      " -0.14370904-0.11546517j]\n",
      "Eigenvectors: [[ 0.34878931+0.j         -0.61789809+0.j          0.42170566+0.21906345j\n",
      "   0.42170566-0.21906345j -0.0366672 -0.20888495j -0.0366672 +0.20888495j\n",
      "  -0.55456842+0.j         -0.55456842-0.j         -0.38700738+0.16036078j\n",
      "  -0.38700738-0.16036078j]\n",
      " [ 0.34259644+0.j         -0.43549578+0.j          0.15172187+0.2164049j\n",
      "   0.15172187-0.2164049j   0.07627457-0.01552199j  0.07627457+0.01552199j\n",
      "   0.32845789+0.1065615j   0.32845789-0.1065615j   0.38246007-0.08575342j\n",
      "   0.38246007+0.08575342j]\n",
      " [ 0.37714917+0.j          0.13200251+0.j         -0.63895405+0.j\n",
      "  -0.63895405-0.j         -0.00143973+0.12265548j -0.00143973-0.12265548j\n",
      "  -0.03604642-0.06770091j -0.03604642+0.06770091j -0.08620058+0.01558497j\n",
      "  -0.08620058-0.01558497j]\n",
      " [ 0.24984732+0.j         -0.03677916+0.j          0.19582873-0.00974984j\n",
      "   0.19582873+0.00974984j  0.33561312+0.33190043j  0.33561312-0.33190043j\n",
      "   0.11156624-0.30560516j  0.11156624+0.30560516j  0.08547574-0.07413036j\n",
      "   0.08547574+0.07413036j]\n",
      " [ 0.32651934+0.j          0.54935362+0.j         -0.40284625-0.05706911j\n",
      "  -0.40284625+0.05706911j  0.52852339+0.j          0.52852339-0.j\n",
      "  -0.48121707+0.08389549j -0.48121707-0.08389549j -0.45357579+0.07559766j\n",
      "  -0.45357579-0.07559766j]\n",
      " [ 0.41025038+0.j          0.05995035+0.j          0.02421914-0.13172992j\n",
      "   0.02421914+0.13172992j -0.29122427+0.19513263j -0.29122427-0.19513263j\n",
      "   0.19869081-0.16703719j  0.19869081+0.16703719j  0.02078226-0.11037136j\n",
      "   0.02078226+0.11037136j]\n",
      " [ 0.24628939+0.j         -0.20983981+0.j          0.11624131-0.11677037j\n",
      "   0.11624131+0.11677037j  0.04811262-0.31114056j  0.04811262+0.31114056j\n",
      "  -0.15745895+0.12093557j -0.15745895-0.12093557j -0.27099666+0.07770176j\n",
      "  -0.27099666-0.07770176j]\n",
      " [ 0.21774462+0.j          0.10432755+0.j          0.07113887-0.13779037j\n",
      "   0.07113887+0.13779037j -0.29887686+0.18383501j -0.29887686-0.18383501j\n",
      "   0.23218097+0.07531755j  0.23218097-0.07531755j  0.49466342+0.j\n",
      "   0.49466342-0.j        ]\n",
      " [ 0.21258518+0.j          0.00531546+0.j          0.05078902+0.13426799j\n",
      "   0.05078902-0.13426799j -0.19519173-0.08077153j -0.19519173+0.08077153j\n",
      "  -0.07518462+0.12206375j -0.07518462-0.12206375j -0.23576001+0.07359126j\n",
      "  -0.23576001-0.07359126j]\n",
      " [ 0.357945  +0.j          0.22234954+0.j         -0.03917635-0.02830001j\n",
      "  -0.03917635+0.02830001j  0.01754973-0.20425536j  0.01754973+0.20425536j\n",
      "   0.15792541-0.10492691j  0.15792541+0.10492691j  0.19095111-0.06867557j\n",
      "   0.19095111+0.06867557j]]\n",
      "Eigenvalues close: True\n",
      "Eigenvectors close: True\n",
      "Validation result: True\n"
     ]
    }
   ],
   "source": [
    "complex_arr = npi.array(np.random.rand(10, 10))\n",
    "corr_matrix = complex_arr.chat(\"Compute correlation matrix\")\n",
    "eigen_result = complex_arr.chat(\"Find eigenvectors and eigenvalues\")\n"
   ]
  }
 ],
 "metadata": {
  "kernelspec": {
   "display_name": "Python 3",
   "language": "python",
   "name": "python3"
  },
  "language_info": {
   "codemirror_mode": {
    "name": "ipython",
    "version": 3
   },
   "file_extension": ".py",
   "mimetype": "text/x-python",
   "name": "python",
   "nbconvert_exporter": "python",
   "pygments_lexer": "ipython3",
   "version": "3.12.9"
  }
 },
 "nbformat": 4,
 "nbformat_minor": 2
}
